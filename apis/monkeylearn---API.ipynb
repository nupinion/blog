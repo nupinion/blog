{
 "cells": [
  {
   "cell_type": "code",
   "execution_count": 1,
   "metadata": {
    "collapsed": true
   },
   "outputs": [],
   "source": [
    "import json\n",
    "\n",
    "from monkeylearn import MonkeyLearn\n",
    "\n",
    "import nltk\n",
    "\n",
    "\n",
    "MONKEYLEARN_API_KEY = ''"
   ]
  },
  {
   "cell_type": "code",
   "execution_count": 2,
   "metadata": {
    "collapsed": false
   },
   "outputs": [
    {
     "name": "stdout",
     "output_type": "stream",
     "text": [
      "Responding at Wednesdays Prime Ministers Questions to Jeremy Corbyns visit to the refugee camp at Calais last weekend Cameron joked: They met with a bunch of migrants in Calais. They said they could all come to Britain. Corbyn had travelled to Calais to witness for himself the appalling conditions endured by those at the camp by people who have already fled war or extreme poverty and survived treacherous journeys across Europe and the Mediterranean. Britain and France need to be a bit more human about this Corbyn said.\n"
     ]
    }
   ],
   "source": [
    "text = '''\n",
    "Responding at Wednesday’s Prime Minister’s Questions to Jeremy Corbyn’s \n",
    "visit to the refugee camp at Calais last weekend, Cameron joked: “They \n",
    "met with a bunch of migrants in Calais. They said they could all come to Britain.” \n",
    "Corbyn had travelled to Calais to witness for himself the appalling conditions \n",
    "endured by those at the camp, by people who have already fled war or extreme \n",
    "poverty, and survived treacherous journeys across Europe and the Mediterranean. \n",
    "Britain and France need to be “a bit more human about this”, Corbyn said.\n",
    "'''\n",
    "\n",
    "text = text.replace('‘','').replace('’','').replace('“','').replace('”','').replace(',','').replace('\\n','')\n",
    "\n",
    "print text"
   ]
  },
  {
   "cell_type": "code",
   "execution_count": 3,
   "metadata": {
    "collapsed": true
   },
   "outputs": [],
   "source": [
    "ml = MonkeyLearn(MONKEYLEARN_API_KEY)"
   ]
  },
  {
   "cell_type": "code",
   "execution_count": 7,
   "metadata": {
    "collapsed": false
   },
   "outputs": [
    {
     "name": "stdout",
     "output_type": "stream",
     "text": [
      "[\n",
      "    [\n",
      "        {\n",
      "            \"probability\": 1.0, \n",
      "            \"label\": \"neutral\"\n",
      "        }\n",
      "    ]\n",
      "]\n"
     ]
    }
   ],
   "source": [
    "# Sentiment extractor\n",
    "# https://app.monkeylearn.com/categorizer/projects/cl_qkjxv9Ly/tab/description-tab\n",
    "\n",
    "module_id = 'cl_qkjxv9Ly'\n",
    "\n",
    "response = ml.classifiers.classify(module_id, [text])\n",
    "\n",
    "print json.dumps(response.result,indent=4)"
   ]
  },
  {
   "cell_type": "code",
   "execution_count": 6,
   "metadata": {
    "collapsed": false
   },
   "outputs": [
    {
     "name": "stdout",
     "output_type": "stream",
     "text": [
      "[\n",
      "    [\n",
      "        {\n",
      "            \"relevance\": \"0.968\", \n",
      "            \"count\": 3, \n",
      "            \"positions_in_text\": [\n",
      "                98, \n",
      "                170, \n",
      "                244\n",
      "            ], \n",
      "            \"keyword\": \"Calais\"\n",
      "        }, \n",
      "        {\n",
      "            \"relevance\": \"0.968\", \n",
      "            \"count\": 3, \n",
      "            \"positions_in_text\": [\n",
      "                61, \n",
      "                220, \n",
      "                512\n",
      "            ], \n",
      "            \"keyword\": \"Corbyn\"\n",
      "        }, \n",
      "        {\n",
      "            \"relevance\": \"0.806\", \n",
      "            \"count\": 1, \n",
      "            \"positions_in_text\": [\n",
      "                25\n",
      "            ], \n",
      "            \"keyword\": \"Prime Ministers Questions\"\n",
      "        }, \n",
      "        {\n",
      "            \"relevance\": \"0.806\", \n",
      "            \"count\": 1, \n",
      "            \"positions_in_text\": [\n",
      "                54\n",
      "            ], \n",
      "            \"keyword\": \"Jeremy Corbyns visit\"\n",
      "        }, \n",
      "        {\n",
      "            \"relevance\": \"0.806\", \n",
      "            \"count\": 1, \n",
      "            \"positions_in_text\": [\n",
      "                105\n",
      "            ], \n",
      "            \"keyword\": \"last weekend Cameron\"\n",
      "        }, \n",
      "        {\n",
      "            \"relevance\": \"0.645\", \n",
      "            \"count\": 2, \n",
      "            \"positions_in_text\": [\n",
      "                211, \n",
      "                454\n",
      "            ], \n",
      "            \"keyword\": \"Britain\"\n",
      "        }, \n",
      "        {\n",
      "            \"relevance\": \"0.484\", \n",
      "            \"count\": 1, \n",
      "            \"positions_in_text\": [\n",
      "                367\n",
      "            ], \n",
      "            \"keyword\": \"extreme poverty\"\n",
      "        }, \n",
      "        {\n",
      "            \"relevance\": \"0.484\", \n",
      "            \"count\": 1, \n",
      "            \"positions_in_text\": [\n",
      "                355\n",
      "            ], \n",
      "            \"keyword\": \"fled war\"\n",
      "        }, \n",
      "        {\n",
      "            \"relevance\": \"0.484\", \n",
      "            \"count\": 1, \n",
      "            \"positions_in_text\": [\n",
      "                278\n",
      "            ], \n",
      "            \"keyword\": \"appalling conditions\"\n",
      "        }, \n",
      "        {\n",
      "            \"relevance\": \"0.484\", \n",
      "            \"count\": 1, \n",
      "            \"positions_in_text\": [\n",
      "                396\n",
      "            ], \n",
      "            \"keyword\": \"treacherous journeys\"\n",
      "        }\n",
      "    ]\n",
      "]\n"
     ]
    }
   ],
   "source": [
    "# Keyword extractor\n",
    "# https://app.monkeylearn.com/extraction/extractors/ex_y7BPYzNG/tab/description-tab\n",
    "\n",
    "module_id = 'ex_y7BPYzNG'\n",
    "\n",
    "response = ml.extractors.extract(module_id, [text])\n",
    "\n",
    "print json.dumps(response.result,indent=4)"
   ]
  },
  {
   "cell_type": "code",
   "execution_count": null,
   "metadata": {
    "collapsed": true
   },
   "outputs": [],
   "source": []
  }
 ],
 "metadata": {
  "kernelspec": {
   "display_name": "Python 2",
   "language": "python",
   "name": "python2"
  },
  "language_info": {
   "codemirror_mode": {
    "name": "ipython",
    "version": 2
   },
   "file_extension": ".py",
   "mimetype": "text/x-python",
   "name": "python",
   "nbconvert_exporter": "python",
   "pygments_lexer": "ipython2",
   "version": "2.7.10"
  }
 },
 "nbformat": 4,
 "nbformat_minor": 0
}
