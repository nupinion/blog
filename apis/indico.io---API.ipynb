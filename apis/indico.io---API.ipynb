{
 "cells": [
  {
   "cell_type": "code",
   "execution_count": 1,
   "metadata": {
    "collapsed": true
   },
   "outputs": [],
   "source": [
    "import re\n",
    "import urllib\n",
    "import urllib2\n",
    "import json\n",
    "import string\n",
    "\n",
    "import nltk\n",
    "\n",
    "\n",
    "def getJSON(url):\n",
    "    response = urllib.urlopen(url)\n",
    "    data = json.loads(response.read())\n",
    "    return data\n",
    "\n",
    "\n",
    "INDICO_API_KEY = ''"
   ]
  },
  {
   "cell_type": "code",
   "execution_count": 2,
   "metadata": {
    "collapsed": false
   },
   "outputs": [
    {
     "name": "stdout",
     "output_type": "stream",
     "text": [
      "Responding at Wednesdays Prime Ministers Questions to Jeremy Corbyns visit to the refugee camp at Calais last weekend Cameron joked: They met with a bunch of migrants in Calais. They said they could all come to Britain. Corbyn had travelled to Calais to witness for himself the appalling conditions endured by those at the camp by people who have already fled war or extreme poverty and survived treacherous journeys across Europe and the Mediterranean. Britain and France need to be a bit more human about this Corbyn said.\n"
     ]
    }
   ],
   "source": [
    "text = '''\n",
    "Responding at Wednesday’s Prime Minister’s Questions to Jeremy Corbyn’s \n",
    "visit to the refugee camp at Calais last weekend, Cameron joked: “They \n",
    "met with a bunch of migrants in Calais. They said they could all come to Britain.” \n",
    "Corbyn had travelled to Calais to witness for himself the appalling conditions \n",
    "endured by those at the camp, by people who have already fled war or extreme \n",
    "poverty, and survived treacherous journeys across Europe and the Mediterranean. \n",
    "Britain and France need to be “a bit more human about this”, Corbyn said.\n",
    "'''\n",
    "\n",
    "text = text.replace('‘','').replace('’','').replace('“','').replace('”','').replace(',','').replace('\\n','')\n",
    "\n",
    "print text"
   ]
  },
  {
   "cell_type": "code",
   "execution_count": 3,
   "metadata": {
    "collapsed": false
   },
   "outputs": [
    {
     "name": "stdout",
     "output_type": "stream",
     "text": [
      "{\n",
      "    \"results\": 0.9791781967251191\n",
      "}\n"
     ]
    }
   ],
   "source": [
    "def getIndicoSentiment(text):\n",
    "    '''\n",
    "    Function...\n",
    "    \n",
    "    https://www.indico.io/docs#sentiment\n",
    "    '''\n",
    "    # Create the request with the data.\n",
    "    req = urllib2.Request(\n",
    "        'http://apiv2.indico.io/sentiment?key=' + INDICO_API_KEY, \n",
    "        data='{ \"data\" : \"' + text + '\" }'\n",
    "    )\n",
    "    f = urllib2.urlopen(req)\n",
    "    # Get the JSON response.\n",
    "    indico_data = json.loads(f.read())\n",
    "    \n",
    "    return indico_data\n",
    "\n",
    "\n",
    "print json.dumps(getIndicoSentiment(text),indent=4)"
   ]
  },
  {
   "cell_type": "code",
   "execution_count": 4,
   "metadata": {
    "collapsed": false
   },
   "outputs": [
    {
     "name": "stdout",
     "output_type": "stream",
     "text": [
      "{\n",
      "    \"results\": {\n",
      "        \"britain\": 0.04824039068854578, \n",
      "        \"camp\": 0.04273174738541084, \n",
      "        \"calais\": 0.10095244749043512\n",
      "    }\n",
      "}\n"
     ]
    }
   ],
   "source": [
    "def getIndicoKeywords(text):\n",
    "    '''\n",
    "    Function...\n",
    "    \n",
    "    https://www.indico.io/docs#keywords\n",
    "    '''\n",
    "    # Create the request with the data.\n",
    "    req = urllib2.Request(\n",
    "        'http://apiv2.indico.io/keywords?key=' + INDICO_API_KEY, \n",
    "        data='{ \"data\" : \"' + text + '\" }'\n",
    "    )\n",
    "    f = urllib2.urlopen(req)\n",
    "    # Get the JSON response.\n",
    "    indico_data = json.loads(f.read())\n",
    "    \n",
    "    return indico_data\n",
    "\n",
    "\n",
    "print json.dumps(getIndicoKeywords(text),indent=4)"
   ]
  },
  {
   "cell_type": "code",
   "execution_count": 5,
   "metadata": {
    "collapsed": false
   },
   "outputs": [
    {
     "name": "stdout",
     "output_type": "stream",
     "text": [
      "{\n",
      "    \"results\": {\n",
      "        \"Europe\": {\n",
      "            \"confidence\": 0.9816468499260319, \n",
      "            \"categories\": {\n",
      "                \"unknown\": 0.016913192991931503, \n",
      "                \"person\": 0.015161803362768117, \n",
      "                \"location\": 0.9332716009481214, \n",
      "                \"organization\": 0.034653402697178926\n",
      "            }\n",
      "        }, \n",
      "        \"Jeremy\": {\n",
      "            \"confidence\": 0.9272391731847864, \n",
      "            \"categories\": {\n",
      "                \"unknown\": 0.5834133738284307, \n",
      "                \"person\": 0.12413996918961898, \n",
      "                \"location\": 0.09404234152904327, \n",
      "                \"organization\": 0.19840431545290704\n",
      "            }\n",
      "        }, \n",
      "        \"Calais\": {\n",
      "            \"confidence\": 0.9619883656839981, \n",
      "            \"categories\": {\n",
      "                \"unknown\": 0.11333309032361782, \n",
      "                \"person\": 0.07082592585196933, \n",
      "                \"location\": 0.6458560448397901, \n",
      "                \"organization\": 0.16998493898462283\n",
      "            }\n",
      "        }, \n",
      "        \"Britain\": {\n",
      "            \"confidence\": 0.9716251086736327, \n",
      "            \"categories\": {\n",
      "                \"unknown\": 0.10656044545430679, \n",
      "                \"person\": 0.028765077674563485, \n",
      "                \"location\": 0.8206400842570085, \n",
      "                \"organization\": 0.04403439261412112\n",
      "            }\n",
      "        }, \n",
      "        \"Wednesdays\": {\n",
      "            \"confidence\": 0.9173321673078609, \n",
      "            \"categories\": {\n",
      "                \"unknown\": 0.3672590199779655, \n",
      "                \"person\": 0.1312829536453847, \n",
      "                \"location\": 0.2726985551327046, \n",
      "                \"organization\": 0.22875947124394536\n",
      "            }\n",
      "        }, \n",
      "        \"Cameron\": {\n",
      "            \"confidence\": 0.900205321034508, \n",
      "            \"categories\": {\n",
      "                \"unknown\": 0.582314114415427, \n",
      "                \"person\": 0.1088485526048173, \n",
      "                \"location\": 0.20498526352952448, \n",
      "                \"organization\": 0.10385206945023118\n",
      "            }\n",
      "        }, \n",
      "        \"France\": {\n",
      "            \"confidence\": 0.9806399062740127, \n",
      "            \"categories\": {\n",
      "                \"unknown\": 0.026433349090366067, \n",
      "                \"person\": 0.017658953278713304, \n",
      "                \"location\": 0.9351360858799757, \n",
      "                \"organization\": 0.020771611750944975\n",
      "            }\n",
      "        }\n",
      "    }\n",
      "}\n"
     ]
    }
   ],
   "source": [
    "def getIndicoNamedEntities(text):\n",
    "    '''\n",
    "    Function \n",
    "    \n",
    "    https://www.indico.io/docs#ner\n",
    "    '''\n",
    "    # Create the request with the data.\n",
    "    req = urllib2.Request(\n",
    "        'http://apiv2.indico.io/namedentities?key=' + INDICO_API_KEY, \n",
    "        data='{ \"data\" : \"' + text + '\" }'\n",
    "    )\n",
    "    f = urllib2.urlopen(req)\n",
    "    # Get the JSON response.\n",
    "    indico_data = json.loads(f.read())\n",
    "    \n",
    "    return indico_data\n",
    "\n",
    "\n",
    "print json.dumps(getIndicoNamedEntities(text),indent=4)"
   ]
  },
  {
   "cell_type": "code",
   "execution_count": 6,
   "metadata": {
    "collapsed": false
   },
   "outputs": [
    {
     "name": "stdout",
     "output_type": "stream",
     "text": [
      "{\n",
      "    \"results\": [\n",
      "        0.49185493253560436, \n",
      "        0.612503910161257\n",
      "    ]\n",
      "}\n"
     ]
    }
   ],
   "source": [
    "def getIndicoRelevance(text, queries):\n",
    "    '''\n",
    "    Function...\n",
    "    \n",
    "    https://www.indico.io/docs#relevance\n",
    "    '''\n",
    "    # Create the request with the data.\n",
    "    req = urllib2.Request(\n",
    "        'http://apiv2.indico.io/relevance?key=' + INDICO_API_KEY, \n",
    "        data='{ \"data\" : \"' + text + '\", \"queries\" : ' + json.dumps(queries) + '}'\n",
    "    )\n",
    "    f = urllib2.urlopen(req)\n",
    "    # Get the JSON response.\n",
    "    indico_data = json.loads(f.read())\n",
    "    \n",
    "    return indico_data\n",
    "\n",
    "\n",
    "print json.dumps(getIndicoRelevance(text, ['politics','refugees']),indent=4)"
   ]
  },
  {
   "cell_type": "code",
   "execution_count": 7,
   "metadata": {
    "collapsed": false
   },
   "outputs": [
    {
     "name": "stdout",
     "output_type": "stream",
     "text": [
      "{\n",
      "    \"results\": {\n",
      "        \"Libertarian\": 0.17544707779891558, \n",
      "        \"Green\": 0.1649157167396292, \n",
      "        \"Liberal\": 0.4403157032085389, \n",
      "        \"Conservative\": 0.2193215022529162\n",
      "    }\n",
      "}\n"
     ]
    }
   ],
   "source": [
    "def getIndicoPoliticalSentiment(text):\n",
    "    '''\n",
    "    Function\n",
    "    \n",
    "    https://indico.readme.io/v1.0/docs/political\n",
    "    '''\n",
    "    # Create the request with the data.\n",
    "    req = urllib2.Request(\n",
    "        'http://apiv2.indico.io/political?key=' + INDICO_API_KEY, \n",
    "        data='{ \"data\" : \"' + text + '\" }'\n",
    "    )\n",
    "    f = urllib2.urlopen(req)\n",
    "    # Get the JSON response.\n",
    "    indico_data = json.loads(f.read())\n",
    "    \n",
    "    return indico_data\n",
    "\n",
    "\n",
    "print json.dumps(getIndicoPoliticalSentiment(text),indent=4)"
   ]
  },
  {
   "cell_type": "code",
   "execution_count": 8,
   "metadata": {
    "collapsed": false
   },
   "outputs": [
    {
     "name": "stdout",
     "output_type": "stream",
     "text": [
      "{\"results\": [0.040063772437010564, 0.06267816724707984, 0.00391510567138978, 0.0708195234756518, -0.02346824050904754, -0.0073600747161102495, -0.0011229342927401016, -0.10419678321782253, 0.0670026156199656, 0.11800409264327254, 0.03662392822142911, -0.11042265775188206, -0.053041509909836186, 0.06270403022703279, -0.037388609130790326, 0.08061110313746161, 0.05605951243109141, 0.09587780018668336, -0.028794449104054654, -0.09935529885663512, 0.002131756971146083, 0.0703912689442398, 0.11475913318909056, -0.026892076590210066, 0.04496244924251884, -0.09058654674475765, -0.10827272017796277, 0.07275704680199074, 0.06422521028785441, -0.0774018495296189, 0.016933369848819983, -0.030110468291247527, -0.01760165056333413, 0.0023137761278816, -0.05020484373389577, -0.03544514015412716, 0.038975969989780916, 0.004911413634334115, -0.028422183112616493, 0.042296086616832235, 0.04324194015648925, -0.10524220344037706, 0.1803131184599476, -0.02156821391163376, -0.0114788965259992, -0.022398600446303926, -0.05836974298080998, 0.033620013177906485, -0.05077739109278658, -0.001553465610917869, -0.050599704394480735, 0.032167870941987885, 0.030825260043355025, 0.026683966849714677, -0.03974421269906772, -0.03776264204651893, -0.12296615910552829, -0.016595015826348248, -0.019890274723593764, -0.10674692015916593, -0.03374365794774492, 0.07849451551082767, -0.050529642352446655, -0.08095812307505501, 0.03298713483798906, -0.050672721292955324, -0.042211977027557995, -0.007101113992624511, -0.039289488244217685, 0.07123441726429358, 0.006728127754928975, 0.04353280184951594, 0.0521661057379899, 0.06239130658939557, -0.18029372821281905, -0.06736433796487515, 0.020226774972954, -0.00044907550680205817, -0.010685975774122565, 0.062223794180563265, -0.008592070663718783, 0.0005747357370506735, -0.06699151494306746, -0.057964021226281505, 0.015115924501082326, 0.01737647852341941, -0.075303661873901, 0.11203564200787099, 0.04894936516281481, 0.004246647302285786, 0.035175477559536525, -0.041313425149244624, -0.09867704749815888, 0.004626125239789649, -0.028338075519866876, -0.024796196916955157, 0.0744611843861202, -0.00955925307591228, 0.09611465189563659, -0.10719938854119314, -0.04111951469186067, 0.004437524040506661, 0.002204637357249645, 0.031069175456420774, 0.02500602766167468, -0.05142183729636368, -0.011960090904287277, -0.002201376283845239, 0.022246736797458602, -0.056382134837804354, -0.016950140655644506, -0.03986800521172818, 0.06339301490187674, 0.015198485785512231, 0.003688633644380583, -0.039460790056782484, 0.035253713373372936, -0.06947790684628069, 0.07534570069634114, 0.09162322218946797, -0.15528962120783069, 0.07823963119148883, -0.06556033022610565, -0.0009358633047970627, -0.007770955989393037, -0.05608446100276752, -0.08601726056443079, 0.02344659019604693, -0.02210323459373008, 0.04488708043803957, -0.05868363658187568, -0.048215406774336424, -0.050497725909839884, 0.023468635820922693, -0.06986371526422964, -0.011804774266108261, -0.0353818503236108, 0.00567433111332298, 0.03892401243301884, 0.10357561649133756, 0.0051261099095573715, 0.0012078896597573219, 0.05292660592479272, 0.01437434238333496, 0.06467585384637714, 0.05799343802006157, -0.040514779363014494, -0.030110486259969125, -0.048522072956270604, -0.06285115013337632, 0.21333255307327084, -0.03543356031131975, -0.11734757944488027, 0.06436289461883452, 0.014772503299120037, -0.08828834725241107, -0.07123044817334512, -0.027423830958024843, -0.022847656767752193, -0.07412205471383283, -0.03327245617518979, 0.06450386922239162, 0.07983828040069202, -0.041156514286154966, 0.00598621221756974, -0.06914737021596626, 0.07997719059779002, -0.07931539060219878, 0.020609019594452757, 0.015114320293548577, -0.06502104097436756, 0.02672386340123545, -0.05019588732444162, -0.05136887349119213, -0.03158063315492863, -0.037275753580009, 0.0877687636986918, -0.03742814830440377, -0.01972340120264049, -0.018137348067277292, -0.03171231393637049, -0.012848148050925276, -0.0023988889707783783, -0.034703762680153544, -0.03443307786495646, 0.011618713145275572, 0.014281705637400298, -0.020138834052930207, 0.03599521862492235, 0.04840044467630036, 0.015444247983853299, 0.013266937059104521, -0.008912106572783969, 0.041201244423785525, 0.008141242925799673, 0.10875368295939469, -0.022077070138559196, 0.005932707354225637, -0.07936404191418688, -0.06813307181921896, 0.04790766246910638, 0.022792834198157592, -0.01633338425204947, -0.07531899518299771, 0.055206836695541606, -0.04706526084926122, 0.05504447532023398, -0.015813344492454088, -0.03234738246379821, -0.064491614554262, 0.005413967332159154, 0.00813590222243591, 0.029780217163954046, 0.008049758174571887, -0.07526203034248373, -0.02082204877161667, 0.039733930597264586, -0.02745032683628297, -0.06608510474384202, -0.015074269011369601, 0.00327593728065085, 0.044470238041366746, 0.05496883498840612, 0.032489285451304535, 0.06282327864965366, -0.052002191066526385, 0.08837495649051201, 0.09313317778886489, -0.00275239062555698, -0.01990569787629846, 0.04816480286126804, 0.007966087321583324, -0.00044142101857561875, 0.041733705561316475, 0.06733114773955956, 0.012908409153590115, 0.029421475630305092, -0.021712169326451473, 0.08471415290196818, -0.07630655612200762, 0.13516693704256758, 0.007687165844058312, -0.0033399496035147885, -0.06859349435534008, -0.03328879173964673, 0.038746473477535015, -0.005055005182539472, 0.010442706236772023, 0.00927718707210767, -0.061449929257940995, 0.04312291135157681, 0.052032122963658924, 0.031527964835401136, 0.12143315562589538, 0.12050253556910397, -0.06818443840469293, 0.07121672007004447, -0.06737402510234093, -0.007210773107486067, -0.10639194606747862, -0.008684751333195129, 0.05221375080156854, 0.08241722319928116, 0.04317873018695777, 0.06331499471269951, 0.0919725740678198, -0.02994320345146835, -0.032193212829014516, -0.04115288460439223, -0.0502592969464353, -0.034693756098748245, 0.08566117640505368, 0.000541761697916811, 0.049600371946299696, 0.09431107141313619, -0.051712722947685835, -0.018859479043895143, -0.03919385072177621, -0.05427940309204685, 0.0319749667330134, 0.03307993729546735, -0.017531394858411722, -0.02677383241947405, 0.009745164457398323, 0.029543537156118307, -0.03587952800917783, -0.09080233112589989, 0.08726571935494092, 0.004911665695567638, 0.08569244996673217, -0.07314994687539694, 0.029200983444104264, -0.07349732618742227, 0.02303206975750945, -0.0656661460310699, -0.028297196678232096, -0.04823932513930759, -0.04909288333874031, 0.09915204466402036, 0.06026228061436675]}\n"
     ]
    }
   ],
   "source": [
    "def getIndicoTextFeatures(text):\n",
    "    '''\n",
    "    Function\n",
    "    '''\n",
    "    # Create the request with the data.\n",
    "    req = urllib2.Request(\n",
    "        'http://apiv2.indico.io/textfeatures?key=' + INDICO_API_KEY, \n",
    "        data='{ \"data\" : \"' + text + '\" }'\n",
    "    )\n",
    "    f = urllib2.urlopen(req)\n",
    "    # Get the JSON response.\n",
    "    indico_data = json.loads(f.read())\n",
    "    \n",
    "    return indico_data\n",
    "\n",
    "\n",
    "print json.dumps(getIndicoTextFeatures(text))"
   ]
  },
  {
   "cell_type": "code",
   "execution_count": null,
   "metadata": {
    "collapsed": true
   },
   "outputs": [],
   "source": []
  }
 ],
 "metadata": {
  "kernelspec": {
   "display_name": "Python 2",
   "language": "python",
   "name": "python2"
  },
  "language_info": {
   "codemirror_mode": {
    "name": "ipython",
    "version": 2
   },
   "file_extension": ".py",
   "mimetype": "text/x-python",
   "name": "python",
   "nbconvert_exporter": "python",
   "pygments_lexer": "ipython2",
   "version": "2.7.10"
  }
 },
 "nbformat": 4,
 "nbformat_minor": 0
}
