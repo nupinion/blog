{
 "cells": [
  {
   "cell_type": "code",
   "execution_count": 1,
   "metadata": {
    "collapsed": true
   },
   "outputs": [],
   "source": [
    "# from datetime import datetime\n",
    "import json\n",
    "import urllib\n",
    "# import urllib2\n",
    "# import re\n",
    "\n",
    "\n",
    "# --------------------------------------------- #\n",
    "def getMovieFromOMDB(movie_obj):\n",
    "    #\n",
    "    request_url = 'http://www.omdbapi.com/?i=tt' + movie_obj['link'].rstrip('/').lstrip('/title/') + '&plot=full&r=json'\n",
    "    json_data = json.load(urllib.urlopen(request_url))\n",
    "    #\n",
    "    movie_obj['avg_rating'] = json_data['imdbRating']\n",
    "    movie_obj['num_votes'] = json_data['imdbVotes']\n",
    "    movie_obj['genre'] = json_data['Genre']\n",
    "    movie_obj['director'] = json_data['Director']\n",
    "    #\n",
    "    if len(json_data['Plot']) > len(movie_obj['description']):\n",
    "        movie_obj['description'] = json_data['Plot']\n",
    "    #\n",
    "    movie_obj['runtime'] = json_data['Runtime'].rstrip('min').rstrip()\n",
    "    #\n",
    "    return movie_obj\n",
    "    # --------------------------------------------- #"
   ]
  },
  {
   "cell_type": "markdown",
   "metadata": {},
   "source": [
    "Load the list of movies."
   ]
  },
  {
   "cell_type": "code",
   "execution_count": 2,
   "metadata": {
    "collapsed": false
   },
   "outputs": [
    {
     "name": "stdout",
     "output_type": "stream",
     "text": [
      "We have 9869 movies in the dataset.\n"
     ]
    }
   ],
   "source": [
    "MOVIES = json.load(open('../../data-blog---list_of_movies_v3.json','r'))\n",
    "\n",
    "print 'We have {} movies in the dataset.'.format(len(MOVIES))"
   ]
  },
  {
   "cell_type": "code",
   "execution_count": 3,
   "metadata": {
    "collapsed": false
   },
   "outputs": [
    {
     "name": "stdout",
     "output_type": "stream",
     "text": [
      "director Steven Spielberg\n",
      "description Archaeologist and adventurer Indiana Jones is hired by the US government to find the Ark of the Covenant before the Nazis. (115 mins.)\n",
      "avg_rating 8.5\n",
      "year (1981)\n",
      "poster_img http://i.media-imdb.com/images/SFaa265aa19162c9e4f3781fbae59f856d/nopicture/medium/film.png\n",
      "stars Harrison Ford, Karen Allen, Paul Freeman, John Rhys-Davies\n",
      "link /title/tt0082971/\n",
      "poster_desc Image of Raiders of the Lost Ark\n",
      "num_votes 626,013\n",
      "genre Action, Adventure\n",
      "runtime 115\n",
      "num_reviews_pages 76\n",
      "name Raiders of the Lost Ark\n"
     ]
    }
   ],
   "source": [
    "for k in MOVIES[100].keys():\n",
    "    if k != 'reviews':\n",
    "        print k, MOVIES[100][k]"
   ]
  },
  {
   "cell_type": "markdown",
   "metadata": {},
   "source": [
    "For each movie we will grab the ID and get the OMDB API details."
   ]
  },
  {
   "cell_type": "code",
   "execution_count": 4,
   "metadata": {
    "collapsed": false
   },
   "outputs": [
    {
     "name": "stdout",
     "output_type": "stream",
     "text": [
      "Calling the OMDB API for all movies...\n",
      "\n",
      "49 . 99 . 149 . 199 . 249 . 299 . 349 . 399 . 449 . 499 . 549 . 599 . 649 . 699 . 749 . 799 . 849 . 899 . 949 . 999 . 1049 . 1099 . 1149 . 1199 . 1249 . 1299 . 1349 . 1399 . 1449 . 1499 . 1549 . 1599 . 1649 . 1699 . 1749 . 1799 . 1849 . 1899 . 1949 . 1999 . 2049 . 2099 . 2149 . 2199 . 2249 . 2299 . 2349 . 2399 . 2449 . 2499 . 2549 . 2599 . 2649 . 2699 . 2749 . 2799 . 2849 . 2899 . 2949 . 2999 . 3049 . 3099 . 3149 . 3199 . 3249 . 3299 . 3349 . 3399 . 3449 . 3499 . 3549 . 3599 . 3649 . 3699 . 3749 . 3799 . 3849 . 3899 . 3949 . 3999 . 4049 . 4099 . 4149 . 4199 . 4249 . 4299 . 4349 . 4399 . 4449 . 4499 . 4549 . 4599 . 4649 . 4699 . 4749 . 4799 . 4849 . 4899 . 4949 . 4999 . 5049 . 5099 . 5149 . 5199 . 5249 . 5299 . 5349 . 5399 . 5449 . 5499 . 5549 . 5599 . 5649 . 5699 . 5749 . 5799 . 5849 . 5899 . 5949 . 5999 . 6049 . 6099 . 6149 . 6199 . 6249 . 6299 . 6349 . 6399 . 6449 . 6499 . 6549 . 6599 . 6649 . 6699 . 6749 . 6799 . 6849 . 6899 . 6949 . 6999 . 7049 . 7099 . 7149 . 7199 . 7249 . 7299 . 7349 . 7399 . 7449 . 7499 . 7549 . 7599 . 7649 . 7699 . 7749 . 7799 . 7849 . 7899 . 7949 . 7999 . 8049 . 8099 . 8149 . 8199 . 8249 . 8299 . 8349 . 8399 . 8449 . 8499 . 8549 . 8599 . 8649 . 8699 . 8749 . 8799 . 8849 . 8899 . 8949 . 8999 . 9049 . 9099 . 9149 . 9199 . 9249 . 9299 . 9349 . 9399 . 9449 . 9499 . 9549 . 9599 . 9649 ."
     ]
    },
    {
     "ename": "KeyError",
     "evalue": "'imdbRating'",
     "output_type": "error",
     "traceback": [
      "\u001b[0;31m---------------------------------------------------------------------------\u001b[0m",
      "\u001b[0;31mKeyError\u001b[0m                                  Traceback (most recent call last)",
      "\u001b[0;32m<ipython-input-4-33047fdd6963>\u001b[0m in \u001b[0;36m<module>\u001b[0;34m()\u001b[0m\n\u001b[1;32m      7\u001b[0m \u001b[0;34m\u001b[0m\u001b[0m\n\u001b[1;32m      8\u001b[0m     \u001b[0;32mif\u001b[0m \u001b[0;34m'genre'\u001b[0m \u001b[0;32mnot\u001b[0m \u001b[0;32min\u001b[0m \u001b[0mmovie\u001b[0m\u001b[0;34m:\u001b[0m\u001b[0;34m\u001b[0m\u001b[0m\n\u001b[0;32m----> 9\u001b[0;31m         \u001b[0mMOVIES\u001b[0m\u001b[0;34m[\u001b[0m\u001b[0me\u001b[0m\u001b[0;34m]\u001b[0m \u001b[0;34m=\u001b[0m \u001b[0mgetMovieFromOMDB\u001b[0m\u001b[0;34m(\u001b[0m\u001b[0mmovie\u001b[0m\u001b[0;34m)\u001b[0m\u001b[0;34m\u001b[0m\u001b[0m\n\u001b[0m\u001b[1;32m     10\u001b[0m \u001b[0;34m\u001b[0m\u001b[0m\n\u001b[1;32m     11\u001b[0m     \u001b[0;32mif\u001b[0m \u001b[0;34m(\u001b[0m\u001b[0me\u001b[0m\u001b[0;34m+\u001b[0m\u001b[0;36m1\u001b[0m\u001b[0;34m)\u001b[0m \u001b[0;34m%\u001b[0m \u001b[0;36m50\u001b[0m \u001b[0;34m==\u001b[0m \u001b[0;36m0\u001b[0m\u001b[0;34m:\u001b[0m\u001b[0;34m\u001b[0m\u001b[0m\n",
      "\u001b[0;32m<ipython-input-1-b1d5436b599b>\u001b[0m in \u001b[0;36mgetMovieFromOMDB\u001b[0;34m(movie_obj)\u001b[0m\n\u001b[1;32m     12\u001b[0m     \u001b[0mjson_data\u001b[0m \u001b[0;34m=\u001b[0m \u001b[0mjson\u001b[0m\u001b[0;34m.\u001b[0m\u001b[0mload\u001b[0m\u001b[0;34m(\u001b[0m\u001b[0murllib\u001b[0m\u001b[0;34m.\u001b[0m\u001b[0murlopen\u001b[0m\u001b[0;34m(\u001b[0m\u001b[0mrequest_url\u001b[0m\u001b[0;34m)\u001b[0m\u001b[0;34m)\u001b[0m\u001b[0;34m\u001b[0m\u001b[0m\n\u001b[1;32m     13\u001b[0m     \u001b[0;31m#\u001b[0m\u001b[0;34m\u001b[0m\u001b[0;34m\u001b[0m\u001b[0m\n\u001b[0;32m---> 14\u001b[0;31m     \u001b[0mmovie_obj\u001b[0m\u001b[0;34m[\u001b[0m\u001b[0;34m'avg_rating'\u001b[0m\u001b[0;34m]\u001b[0m \u001b[0;34m=\u001b[0m \u001b[0mjson_data\u001b[0m\u001b[0;34m[\u001b[0m\u001b[0;34m'imdbRating'\u001b[0m\u001b[0;34m]\u001b[0m\u001b[0;34m\u001b[0m\u001b[0m\n\u001b[0m\u001b[1;32m     15\u001b[0m     \u001b[0mmovie_obj\u001b[0m\u001b[0;34m[\u001b[0m\u001b[0;34m'num_votes'\u001b[0m\u001b[0;34m]\u001b[0m \u001b[0;34m=\u001b[0m \u001b[0mjson_data\u001b[0m\u001b[0;34m[\u001b[0m\u001b[0;34m'imdbVotes'\u001b[0m\u001b[0;34m]\u001b[0m\u001b[0;34m\u001b[0m\u001b[0m\n\u001b[1;32m     16\u001b[0m     \u001b[0mmovie_obj\u001b[0m\u001b[0;34m[\u001b[0m\u001b[0;34m'genre'\u001b[0m\u001b[0;34m]\u001b[0m \u001b[0;34m=\u001b[0m \u001b[0mjson_data\u001b[0m\u001b[0;34m[\u001b[0m\u001b[0;34m'Genre'\u001b[0m\u001b[0;34m]\u001b[0m\u001b[0;34m\u001b[0m\u001b[0m\n",
      "\u001b[0;31mKeyError\u001b[0m: 'imdbRating'"
     ]
    }
   ],
   "source": [
    "print 'Calling the OMDB API for all movies...\\n'\n",
    "\n",
    "added = 0\n",
    "\n",
    "# Iterate over all movies.\n",
    "for e,movie in enumerate(MOVIES):\n",
    "    \n",
    "    if 'genre' not in movie:\n",
    "        MOVIES[e] = getMovieFromOMDB(movie)\n",
    "    \n",
    "    if (e+1) % 50 == 0:\n",
    "        print e, '.',\n",
    "\n",
    "\n",
    "print 'DONE!'"
   ]
  },
  {
   "cell_type": "code",
   "execution_count": 5,
   "metadata": {
    "collapsed": false
   },
   "outputs": [
    {
     "name": "stdout",
     "output_type": "stream",
     "text": [
      " 9699\n"
     ]
    }
   ],
   "source": [
    "s = 0\n",
    "for m in MOVIES:\n",
    "    if 'genre' in m:\n",
    "        s += 1\n",
    "\n",
    "print s"
   ]
  },
  {
   "cell_type": "code",
   "execution_count": 6,
   "metadata": {
    "collapsed": false
   },
   "outputs": [
    {
     "name": "stdout",
     "output_type": "stream",
     "text": [
      "poster_desc Image of The Breakfast Club\n",
      "description Five high school students, all different stereotypes, meet in detention, where they pour their hearts out to each other, and discover how they have a lot more in common than they thought. (97 mins.)\n",
      "avg_rating 7.9\n",
      "year (1985)\n",
      "poster_img http://ia.media-imdb.com/images/M/MV5BMzYyNTQ1Nzk2M15BMl5BanBnXkFtZTcwODk0NTQyMQ@@._V1._SX140_CR0,0,140,209_.jpg\n",
      "director John Hughes\n",
      "link /title/tt0088847/\n",
      "stars Emilio Estevez, Judd Nelson, Molly Ringwald, Ally Sheedy\n",
      "num_votes 240,754\n",
      "genre Comedy, Drama\n",
      "runtime 97\n",
      "num_reviews_pages 229\n",
      "name The Breakfast Club\n"
     ]
    }
   ],
   "source": [
    "for k in MOVIES[5].keys():\n",
    "    if k != 'reviews':\n",
    "        print k, MOVIES[5][k]"
   ]
  },
  {
   "cell_type": "code",
   "execution_count": 7,
   "metadata": {
    "collapsed": true
   },
   "outputs": [],
   "source": [
    "# Full dump\n",
    "with open('../../data-blog---list_of_movies_v3.json', 'w') as outfile:\n",
    "    json.dump(MOVIES, outfile)"
   ]
  },
  {
   "cell_type": "code",
   "execution_count": null,
   "metadata": {
    "collapsed": true
   },
   "outputs": [],
   "source": []
  }
 ],
 "metadata": {
  "kernelspec": {
   "display_name": "Python 2",
   "language": "python",
   "name": "python2"
  },
  "language_info": {
   "codemirror_mode": {
    "name": "ipython",
    "version": 2
   },
   "file_extension": ".py",
   "mimetype": "text/x-python",
   "name": "python",
   "nbconvert_exporter": "python",
   "pygments_lexer": "ipython2",
   "version": "2.7.10"
  }
 },
 "nbformat": 4,
 "nbformat_minor": 0
}
