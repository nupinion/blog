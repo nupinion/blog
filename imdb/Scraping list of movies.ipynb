{
 "cells": [
  {
   "cell_type": "markdown",
   "metadata": {},
   "source": [
    "This code extracts titles from the pages of results at this url:\n",
    "http://www.imdb.com/list/ls057823854/"
   ]
  },
  {
   "cell_type": "code",
   "execution_count": 38,
   "metadata": {
    "collapsed": true
   },
   "outputs": [],
   "source": [
    "#import libraries\n",
    "import urllib2\n",
    "from bs4 import BeautifulSoup\n",
    "import re\n",
    "import json"
   ]
  },
  {
   "cell_type": "code",
   "execution_count": 68,
   "metadata": {
    "collapsed": true
   },
   "outputs": [],
   "source": [
    "################################################\n",
    "### helper functions for the document below\n",
    "################################################\n",
    "\n",
    "def extractHtmlAndSoup(url,hdr):\n",
    "        req1 = urllib2.Request(url, headers=hdr)\n",
    "        page = urllib2.urlopen(req1)\n",
    "        content = page.read()\n",
    "        soup = BeautifulSoup(content)\n",
    "        return soup\n",
    "\n",
    "def extractMovieDetails(div):\n",
    "    obj = {}\n",
    "    # link to the movie page\n",
    "    obj[\"link\"] = div.find(\"div\",attrs={\"class\",\"info\"}). find(\"a\")[\"href\"]\n",
    "    obj[\"name\"] = div.find(\"div\",attrs={\"class\",\"info\"}).find(\"a\").get_text()\n",
    "    obj[\"year\"] = div.find(\"span\",attrs={\"class\":\"year_type\"}).get_text()\n",
    "    obj[\"description\"] = div.find(\"div\",attrs={\"class\":\"item_description\"}).get_text()\n",
    "    # obj[\"director\"] = div.find(\"div\",text = re.compile('Director:'),attrs={\"class\":\"secondary\"})\n",
    "    # Hacky way to extract the data for the director and actors:\n",
    "    obj[\"director\"] = div.findAll(\"div\", attrs={\"class\":\"secondary\"})[0].get_text().replace(\"Director:\",\"\").rstrip().lstrip()\n",
    "    obj[\"stars\"] = div.findAll(\"div\", attrs={\"class\":\"secondary\"})[1].get_text().replace(\"Stars:\",\"\").rstrip().lstrip().replace(\", \",\",\").split(\",\")\n",
    "    obj[\"poster_img\"] = div.find(\"div\",attrs={\"class\":\"image\"}).find(\"img\")[\"src\"]\n",
    "    obj[\"poster_desc\"] = div.find(\"div\",attrs={\"class\":\"image\"}).find(\"img\")[\"alt\"]\n",
    "    return obj\n",
    "\n",
    "################################################"
   ]
  },
  {
   "cell_type": "code",
   "execution_count": 70,
   "metadata": {
    "collapsed": false
   },
   "outputs": [],
   "source": [
    "# url = \"http://www.imdb.com/list/ls057823854/?start=101&view=detail&sort=listorian:asc\"\n",
    "start_num = 1\n",
    "url = \"http://www.imdb.com/list/ls057823854/?start=\" + str(start_num) + \"&view=detail&sort=listorian:asc\"\n",
    "\n",
    "hdr = {'User-Agent': 'Mozilla/5.0 (X11; Linux x86_64) AppleWebKit/537.11 (KHTML, like Gecko) Chrome/23.0.1271.64 Safari/537.11',\n",
    "       'Accept': 'text/html,application/xhtml+xml,application/xml;q=0.9,*/*;q=0.8',\n",
    "       'Accept-Charset': 'ISO-8859-1,utf-8;q=0.7,*;q=0.3',\n",
    "       'Accept-Encoding': 'none',\n",
    "       'Accept-Language': 'en-US,en;q=0.8',\n",
    "       'Connection': 'keep-alive'}\n",
    "\n",
    "#read in html\n",
    "# req1 = urllib2.Request(url, headers=hdr)\n",
    "# page = urllib2.urlopen(req1)\n",
    "# content = page.read()\n",
    "# soup = BeautifulSoup(content)\n",
    "soup = extractHtmlAndSoup(url,hdr)"
   ]
  },
  {
   "cell_type": "code",
   "execution_count": 46,
   "metadata": {
    "collapsed": true
   },
   "outputs": [],
   "source": [
    "# a quick inspection of the page source reveals that to extract the movie name, link and date we need the content\n",
    "# of divs with class=\"info\"\n",
    "\n",
    "movies = soup.findAll(\"div\",attrs={\"class\":\"list_item\"})"
   ]
  },
  {
   "cell_type": "code",
   "execution_count": 62,
   "metadata": {
    "collapsed": false
   },
   "outputs": [
    {
     "name": "stdout",
     "output_type": "stream",
     "text": [
      "{\n",
      "    \"poster_desc\": \"Image of Pulp Fiction\", \n",
      "    \"description\": \"The lives of two mob hit men, a boxer, a gangster's wife, and a pair of diner bandits intertwine in four tales of violence and redemption. (154 mins.)\", \n",
      "    \"director\": \"Quentin Tarantino\", \n",
      "    \"link\": \"/title/tt0110912/\", \n",
      "    \"stars\": [\n",
      "        \"John Travolta\", \n",
      "        \"Uma Thurman\", \n",
      "        \"Samuel L. Jackson\", \n",
      "        \"Bruce Willis\"\n",
      "    ], \n",
      "    \"year\": \"(1994)\", \n",
      "    \"poster_img\": \"http://ia.media-imdb.com/images/M/MV5BMTkxMTA5OTAzMl5BMl5BanBnXkFtZTgwNjA5MDc3NjE@._V1._SY209_CR0,0,140,209_.jpg\", \n",
      "    \"name\": \"Pulp Fiction\"\n",
      "}\n"
     ]
    }
   ],
   "source": [
    "output = []\n",
    "for movie in movies:\n",
    "    output.append(extractMovieDetails(movie))\n",
    "    \n",
    "print json.dumps( output[0], indent = 4)"
   ]
  },
  {
   "cell_type": "code",
   "execution_count": 72,
   "metadata": {
    "collapsed": false
   },
   "outputs": [
    {
     "name": "stdout",
     "output_type": "stream",
     "text": [
      "1 of 99\n",
      "2 of 99\n",
      "3 of 99\n",
      "4 of 99\n",
      "5 of 99\n",
      "6 of 99\n",
      "7 of 99\n",
      "8 of 99\n",
      "9 of 99\n",
      "10 of 99\n",
      "11 of 99\n",
      "12 of 99\n",
      "13 of 99\n",
      "14 of 99\n",
      "15 of 99\n",
      "16 of 99\n",
      "17 of 99\n",
      "18 of 99\n",
      "19 of 99\n",
      "20 of 99\n",
      "21 of 99\n",
      "22 of 99\n",
      "23 of 99\n",
      "24 of 99\n",
      "25 of 99\n",
      "26 of 99\n",
      "27 of 99\n",
      "28 of 99\n",
      "29 of 99\n",
      "30 of 99\n",
      "31 of 99\n",
      "32 of 99\n",
      "33 of 99\n",
      "34 of 99\n",
      "35 of 99\n",
      "36 of 99\n",
      "37 of 99\n",
      "38 of 99\n",
      "39 of 99\n",
      "40 of 99\n",
      "41 of 99\n",
      "42 of 99\n",
      "43 of 99\n",
      "44 of 99\n",
      "45 of 99\n",
      "46 of 99\n",
      "47 of 99\n",
      "48 of 99\n",
      "49 of 99\n",
      "50 of 99\n",
      "51 of 99\n",
      "52 of 99\n",
      "53 of 99\n",
      "54 of 99\n",
      "55 of 99\n",
      "56 of 99\n",
      "57 of 99\n",
      "58 of 99\n",
      "59 of 99\n",
      "60 of 99\n",
      "61 of 99\n",
      "62 of 99\n",
      "63 of 99\n",
      "64 of 99\n",
      "65 of 99\n",
      "66 of 99\n",
      "67 of 99\n",
      "68 of 99\n",
      "69 of 99\n",
      "70 of 99\n",
      "71 of 99\n",
      "72 of 99\n",
      "73 of 99\n",
      "74 of 99\n",
      "75 of 99\n",
      "76 of 99\n",
      "77 of 99\n",
      "78 of 99\n",
      "79 of 99\n",
      "80 of 99\n",
      "81 of 99\n",
      "82 of 99\n",
      "83 of 99\n",
      "84 of 99\n",
      "85 of 99\n",
      "86 of 99\n",
      "87 of 99\n",
      "88 of 99\n",
      "89 of 99\n",
      "90 of 99\n",
      "91 of 99\n",
      "92 of 99\n",
      "93 of 99\n",
      "94 of 99\n",
      "95 of 99\n",
      "96 of 99\n",
      "97 of 99\n",
      "98 of 99\n",
      "99 of 99\n"
     ]
    }
   ],
   "source": [
    "# iterate over all pages of results....\n",
    "\n",
    "num_movies = 9969\n",
    "\n",
    "# print num_movies/10\n",
    "for start in range(1, 1+ num_movies/100):\n",
    "    print str(start) + \" of \" + str(num_movies/100)\n",
    "    url = \"http://www.imdb.com/list/ls057823854/?start=\" + str(start) + \"&view=detail&sort=listorian:asc\"\n",
    "    soup = extractHtmlAndSoup(url,hdr)\n",
    "    movies = soup.findAll(\"div\",attrs={\"class\":\"list_item\"})\n",
    "    for movie in movies:\n",
    "        output.append(extractMovieDetails(movie))\n"
   ]
  },
  {
   "cell_type": "code",
   "execution_count": 73,
   "metadata": {
    "collapsed": false
   },
   "outputs": [],
   "source": [
    "# save to file\n",
    "with open('../data_for_data_blog/list_of_movies.json', 'w') as outfile:\n",
    "    json.dump(output, outfile)"
   ]
  },
  {
   "cell_type": "code",
   "execution_count": null,
   "metadata": {
    "collapsed": true
   },
   "outputs": [],
   "source": [
    "#print movies[0].find(True,text = re.compile(\"Director\"))\n",
    "#print \"Director\" in str(movies[0])"
   ]
  },
  {
   "cell_type": "code",
   "execution_count": null,
   "metadata": {
    "collapsed": true
   },
   "outputs": [],
   "source": []
  }
 ],
 "metadata": {
  "kernelspec": {
   "display_name": "Python 2",
   "language": "python",
   "name": "python2"
  },
  "language_info": {
   "codemirror_mode": {
    "name": "ipython",
    "version": 2
   },
   "file_extension": ".py",
   "mimetype": "text/x-python",
   "name": "python",
   "nbconvert_exporter": "python",
   "pygments_lexer": "ipython2",
   "version": "2.7.10"
  }
 },
 "nbformat": 4,
 "nbformat_minor": 0
}
