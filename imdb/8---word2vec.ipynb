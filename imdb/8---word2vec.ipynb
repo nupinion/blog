{
 "cells": [
  {
   "cell_type": "code",
   "execution_count": 1,
   "metadata": {
    "collapsed": false
   },
   "outputs": [
    {
     "name": "stdout",
     "output_type": "stream",
     "text": [
      "[u'seaborn-darkgrid', u'seaborn-notebook', u'classic', u'seaborn-ticks', u'grayscale', u'bmh', u'seaborn-talk', u'dark_background', u'ggplot', u'fivethirtyeight', u'seaborn-colorblind', u'seaborn-deep', u'seaborn-whitegrid', u'seaborn-bright', u'seaborn-poster', u'seaborn-muted', u'seaborn-paper', u'seaborn-white', u'seaborn-pastel', u'seaborn-dark', u'seaborn-dark-palette']\n"
     ]
    }
   ],
   "source": [
    "import json\n",
    "\n",
    "import pandas as pd\n",
    "import numpy as np\n",
    "\n",
    "%matplotlib inline\n",
    "import matplotlib.pyplot as plt\n",
    "\n",
    "print plt.style.available\n",
    "plt.style.use('ggplot')\n",
    "\n",
    "import gensim.models"
   ]
  },
  {
   "cell_type": "code",
   "execution_count": 2,
   "metadata": {
    "collapsed": true
   },
   "outputs": [],
   "source": [
    "# --------------------------------------------- #\n",
    "def fnShowNumberOfReviews(MOVIES):\n",
    "    s = 0\n",
    "    for m in MOVIES:\n",
    "        if 'reviews' in m:\n",
    "            # print m['name'], len(m['reviews'])\n",
    "            s += len(m['reviews'])\n",
    "        else:\n",
    "            continue\n",
    "\n",
    "    return s\n",
    "    # --------------------------------------------- #"
   ]
  },
  {
   "cell_type": "code",
   "execution_count": 3,
   "metadata": {
    "collapsed": false
   },
   "outputs": [
    {
     "name": "stdout",
     "output_type": "stream",
     "text": [
      "We have 9869 movies in the dataset.\n",
      "\n",
      "Number of reviews available: 648988\n"
     ]
    }
   ],
   "source": [
    "MOVIES = json.load(open('/Users/luuk/DATA/NUPINION---IMDB/data-blog---MASTER-v1313.json','r'))\n",
    "\n",
    "print 'We have {} movies in the dataset.'.format(len(MOVIES))\n",
    "print '\\nNumber of reviews available: {}'.format(fnShowNumberOfReviews(MOVIES))"
   ]
  },
  {
   "cell_type": "code",
   "execution_count": 4,
   "metadata": {
    "collapsed": false
   },
   "outputs": [
    {
     "name": "stdout",
     "output_type": "stream",
     "text": [
      "[u'poster_desc', u'reviews', u'description', u'avg_rating', u'year', u'poster_img', u'director', u'link', u'stars', u'num_votes', u'genre', u'runtime', u'num_reviews_pages', u'name']\n"
     ]
    }
   ],
   "source": [
    "print MOVIES[0].keys()"
   ]
  },
  {
   "cell_type": "code",
   "execution_count": 5,
   "metadata": {
    "collapsed": false
   },
   "outputs": [
    {
     "name": "stdout",
     "output_type": "stream",
     "text": [
      "648988\n",
      "{\n",
      "    \"movie\": \"Pulp Fiction\", \n",
      "    \"review_content\": \"\\nPulp Fiction may be the single best film ever made, and quite\\nappropriately it is by one of the most creative directors of all time,\\nQuentin Tarantino. This movie is amazing from the beginning definition\\nof pulp to the end credits and boasts one of the best casts ever\\nassembled with the likes of Bruce Willis, Samuel L. Jackson, John\\nTravolta, Uma Thurman, Harvey Keitel, Tim Roth and Christopher Walken.\\nThe dialog is surprisingly humorous for this type of film, and I think\\nthat's what has made it so successful. Wrongfully denied the many\\nOscars it was nominated for, Pulp Fiction is by far the best film of\\nthe 90s and no Tarantino film has surpassed the quality of this movie\\n(although Kill Bill came close). As far as I'm concerned this is the\\ntop film of all-time and definitely deserves a watch if you haven't\\nseen it.\\n\", \n",
      "    \"review_rating\": 10, \n",
      "    \"review_title\": \"Unbelievable.\", \n",
      "    \"link\": \"/title/tt0110912/\", \n",
      "    \"user_href\": \"/user/ur4568292/\", \n",
      "    \"user_name\": \"discoelephant64\"\n",
      "}\n"
     ]
    }
   ],
   "source": [
    "REVIEWS = []\n",
    "\n",
    "for movie in MOVIES:\n",
    "    if 'reviews' in movie:\n",
    "        reviews_tmp = []\n",
    "        for r in movie['reviews']:\n",
    "            r['movie'] = movie['name']\n",
    "            r['link'] = movie['link']\n",
    "            reviews_tmp.append(r)\n",
    "        REVIEWS += reviews_tmp\n",
    "    else:\n",
    "        continue\n",
    "        \n",
    "print len(REVIEWS)\n",
    "print json.dumps(REVIEWS[3],indent=4)"
   ]
  },
  {
   "cell_type": "code",
   "execution_count": 6,
   "metadata": {
    "collapsed": false
   },
   "outputs": [
    {
     "name": "stdout",
     "output_type": "stream",
     "text": [
      "                link         movie  \\\n",
      "0  /title/tt0110912/  Pulp Fiction   \n",
      "1  /title/tt0110912/  Pulp Fiction   \n",
      "\n",
      "                                      review_content  review_rating  \\\n",
      "0  \\nOne of the early scenes in \"Pulp Fiction\" fe...             10   \n",
      "1  \\nTo put this in context, I am 34 years old an...             10   \n",
      "\n",
      "                        review_title         user_href  \\\n",
      "0  The masterpiece without a message  /user/ur0556667/   \n",
      "1                    Simply The Best  /user/ur1515595/   \n",
      "\n",
      "                   user_name  \n",
      "0  kylopod (kylopod@aol.com)  \n",
      "1                  wolvesrug  \n"
     ]
    }
   ],
   "source": [
    "data = pd.DataFrame(REVIEWS)\n",
    "\n",
    "print data.head(2)"
   ]
  },
  {
   "cell_type": "code",
   "execution_count": 7,
   "metadata": {
    "collapsed": true
   },
   "outputs": [],
   "source": [
    "# Lets not hold massive objects in memory.\n",
    "MOVIES = REVIEWS = None"
   ]
  },
  {
   "cell_type": "markdown",
   "metadata": {},
   "source": [
    "---\n",
    "### Select Sub-set\n",
    "\n",
    "Since the dataset is to big..."
   ]
  },
  {
   "cell_type": "code",
   "execution_count": 8,
   "metadata": {
    "collapsed": false
   },
   "outputs": [
    {
     "name": "stdout",
     "output_type": "stream",
     "text": [
      "10    130842\n",
      "8      78948\n",
      "9      71730\n",
      "7      64099\n",
      "1      53121\n",
      "6      45018\n",
      "5      34686\n",
      "4      26655\n",
      "3      25860\n",
      "2      21939\n",
      "Name: review_rating, dtype: int64\n",
      "\n",
      "96090\n"
     ]
    }
   ],
   "source": [
    "print data.review_rating.value_counts()\n",
    "print '\\n', np.sum(data.review_rating.isnull())\n",
    "\n",
    "data.review_rating.fillna(0, inplace=True)"
   ]
  },
  {
   "cell_type": "code",
   "execution_count": 9,
   "metadata": {
    "collapsed": false
   },
   "outputs": [
    {
     "name": "stdout",
     "output_type": "stream",
     "text": [
      "1\n",
      "194696 454292\n"
     ]
    }
   ],
   "source": [
    "# http://scikit-learn.org/stable/modules/generated/sklearn.cross_validation.StratifiedShuffleSplit.html\n",
    "from sklearn.cross_validation import StratifiedShuffleSplit\n",
    "\n",
    "ixs = StratifiedShuffleSplit(data.review_rating.values, n_iter=1, test_size=0.7, train_size=None, random_state=None)\n",
    "\n",
    "print len(ixs)\n",
    "train_ix, test_ix = [(i[0],i[1]) for i in ixs ][0]\n",
    "print len(train_ix), len(test_ix)\n",
    "ixs = None"
   ]
  },
  {
   "cell_type": "markdown",
   "metadata": {},
   "source": [
    "---\n",
    "### Multiword Expressions\n",
    "\n",
    "https://radimrehurek.com/gensim/models/phrases.html#module-gensim.models.phrases"
   ]
  },
  {
   "cell_type": "code",
   "execution_count": null,
   "metadata": {
    "collapsed": true
   },
   "outputs": [],
   "source": []
  },
  {
   "cell_type": "code",
   "execution_count": null,
   "metadata": {
    "collapsed": true
   },
   "outputs": [],
   "source": [
    "bigram = gensim.models.Phrases(sentence_stream)"
   ]
  },
  {
   "cell_type": "code",
   "execution_count": null,
   "metadata": {
    "collapsed": true
   },
   "outputs": [],
   "source": [
    ">>> sent = [u'the', u'mayor', u'of', u'new', u'york', u'was', u'there']\n",
    ">>> print(bigram[sent])\n",
    "[u'the', u'mayor', u'of', u'new_york', u'was', u'there']"
   ]
  },
  {
   "cell_type": "code",
   "execution_count": null,
   "metadata": {
    "collapsed": true
   },
   "outputs": [],
   "source": [
    ">>> trigram = gensim.models.Phrases(bigram[sentence_stream])\n",
    ">>> sent = [u'the', u'new', u'york', u'times', u'is', u'a', u'newspaper']\n",
    ">>> print(trigram[bigram[sent]])\n",
    "[u'the', u'new_york_times', u'is', u'a', u'newspaper']"
   ]
  },
  {
   "cell_type": "code",
   "execution_count": null,
   "metadata": {
    "collapsed": true
   },
   "outputs": [],
   "source": []
  },
  {
   "cell_type": "markdown",
   "metadata": {},
   "source": [
    "---\n",
    "### Word2Vec\n",
    "\n",
    "https://radimrehurek.com/gensim/models/word2vec.html"
   ]
  },
  {
   "cell_type": "code",
   "execution_count": null,
   "metadata": {
    "collapsed": false
   },
   "outputs": [],
   "source": [
    "model = gensim.models.Word2Vec(size=100, window=5, min_count=5)\n",
    "\n",
    "model.build_vocab(data.ix[train_ix].review_content.values)\n",
    "\n",
    "%time model.train(data.ix[train_ix].review_content.values)\n",
    "\n",
    "# To free memory...\n",
    "model.init_sims(replace=True)"
   ]
  },
  {
   "cell_type": "code",
   "execution_count": null,
   "metadata": {
    "collapsed": true
   },
   "outputs": [],
   "source": [
    "model.n_similarity([\"king\"], [\"duke\"])"
   ]
  },
  {
   "cell_type": "code",
   "execution_count": null,
   "metadata": {
    "collapsed": true
   },
   "outputs": [],
   "source": [
    "# model.n_similarity([\"king\"], [\"queen\"])\n",
    "\n",
    "# # text8-rest:\n",
    "# > model.accuracy(\"questions-words.txt\")"
   ]
  },
  {
   "cell_type": "code",
   "execution_count": null,
   "metadata": {
    "collapsed": true
   },
   "outputs": [],
   "source": [
    "# >>> model.most_similar(positive=['woman', 'king'], negative=['man'])\n",
    "# [('queen', 0.50882536), ...]\n",
    "\n",
    "# >>> model.doesnt_match(\"breakfast cereal dinner lunch\".split())\n",
    "# 'cereal'\n",
    "\n",
    "# >>> model.similarity('woman', 'man')\n",
    "# 0.73723527\n",
    "\n",
    "# >>> model['computer']  # raw numpy vector of a word\n",
    "# array([-0.00449447, -0.00310097,  0.02421786, ...], dtype=float32)"
   ]
  },
  {
   "cell_type": "code",
   "execution_count": null,
   "metadata": {
    "collapsed": true
   },
   "outputs": [],
   "source": []
  }
 ],
 "metadata": {
  "kernelspec": {
   "display_name": "Python 2",
   "language": "python",
   "name": "python2"
  },
  "language_info": {
   "codemirror_mode": {
    "name": "ipython",
    "version": 2
   },
   "file_extension": ".py",
   "mimetype": "text/x-python",
   "name": "python",
   "nbconvert_exporter": "python",
   "pygments_lexer": "ipython2",
   "version": "2.7.10"
  }
 },
 "nbformat": 4,
 "nbformat_minor": 0
}
