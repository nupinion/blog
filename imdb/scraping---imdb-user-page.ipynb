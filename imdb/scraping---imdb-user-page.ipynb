{
 "cells": [
  {
   "cell_type": "code",
   "execution_count": 28,
   "metadata": {
    "collapsed": false
   },
   "outputs": [],
   "source": [
    "from datetime import datetime\n",
    "import json\n",
    "import urllib\n",
    "\n",
    "from bs4 import BeautifulSoup"
   ]
  },
  {
   "cell_type": "code",
   "execution_count": 29,
   "metadata": {
    "collapsed": true
   },
   "outputs": [],
   "source": [
    "def getUrlSoup(url):\n",
    "    # Get the page response.\n",
    "    response = urllib.urlopen(url)\n",
    "    # Read the page response into raw content.\n",
    "    content = response.read()\n",
    "    # Soup it.\n",
    "    soup = BeautifulSoup(content)\n",
    "    return soup\n",
    "\n",
    "\n",
    "user_ids = ['ur51685054','ur2363449']\n",
    "\n",
    "soup = getUrlSoup('http://www.imdb.com/user/' + user_ids[0] + '/')"
   ]
  },
  {
   "cell_type": "markdown",
   "metadata": {},
   "source": [
    "---\n",
    "### Reviews\n",
    "\n",
    "Get all the reviews for this specific user."
   ]
  },
  {
   "cell_type": "code",
   "execution_count": 31,
   "metadata": {
    "collapsed": false
   },
   "outputs": [
    {
     "name": "stdout",
     "output_type": "stream",
     "text": [
      "[\n",
      "    {\n",
      "        \"review_date\": \"2016-01-09 00:00:00\", \n",
      "        \"review_content\": \"Kill game more like kill me as this film is awful from the script to the acting, screen shots camera angles the only best part is when you see the credits as then you know its finished. Its the same old story of a bunch of teenagers who play pranks on others and would you believe it one of those pranks goes wrong and someone dies, 5 years later somebody starts killing the group members one by one. From the start you can figure out who the killer is and evan the kills are pretty stupid theirs not a lot of good things to say about this film and evan the harcore thriller/horror fans out there would not like this film. Overall kill game is a low budget very poor attempt at a horror film that's plot has been done more times than iv had Sunday dinners.\", \n",
      "        \"review_title\": \"this film will kill brain cells its that bad\", \n",
      "        \"movie_name\": \"Kill Game\", \n",
      "        \"movie_year\": \"2015\", \n",
      "        \"movie_link\": \"/title/tt3024324/\"\n",
      "    }, \n",
      "    {\n",
      "        \"review_date\": \"2016-01-09 00:00:00\", \n",
      "        \"review_content\": \"Ill start by saying im a fan of tina fey i love 30 rock and wanted to enjoy this film but im sorry i did not. It feels like a cheap bad copy of step brothers the type of film that is straight to DVD and gets show on some obscure satellite or cabel programme. The john cena small role is quite funny and has some good one liners but thats about as far as ill go for good points. Sisters is a big let down, despite there being a great female cast, ones that in majority of films would get rave reviews but in this film its one to avoid. You get the feeling that this film had a original script that would of been so much better then studio idiots got involved changed this and that next thing you know this film is released to a disappointing fan base.\", \n",
      "        \"review_title\": \"if your a fan of tina fey avoid this as guaranteed disappointment\", \n",
      "        \"movie_name\": \"Sisters\", \n",
      "        \"movie_year\": \"2015\", \n",
      "        \"movie_link\": \"/title/tt1850457/\"\n",
      "    }\n",
      "]\n"
     ]
    }
   ],
   "source": [
    "reviews_block = (soup.body.find('div', attrs={'class': 'widget article reviews'})\n",
    "                          .find('div', attrs={'class':'reviews'}))\n",
    "\n",
    "# Create an empty reviews object.\n",
    "reviews = []\n",
    "\n",
    "for div in reviews_block.findAll('div',attrs={'class':'toggle-overflow'}):\n",
    "    \n",
    "    review = dict()\n",
    "    \n",
    "    review['movie_link'] = div.find('h3').find('a')['href']\n",
    "    review['movie_name'] = div.find('h3').find('a').get_text()\n",
    "    review['movie_year'] = div.find('h3').find('span').get_text().lstrip('(').rstrip(')')\n",
    "    review['review_title'] = div.find('h4').get_text()\n",
    "    \n",
    "    review_date_str = div.find('div', attrs={'class':'details'}).get_text().split(' - ')[0]\n",
    "    review['review_date'] = str(datetime.strptime(review_date_str, '%d %B %Y'))\n",
    "    \n",
    "    comment_paragraphs = div.findAll('p')\n",
    "    review['review_content'] = ''\n",
    "    for p in comment_paragraphs:\n",
    "        review['review_content'] += p.get_text()\n",
    "    \n",
    "    reviews.append(review)\n",
    "\n",
    "    \n",
    "# Print the first two to see it worked.\n",
    "print json.dumps(reviews[:2],indent=4)"
   ]
  },
  {
   "cell_type": "markdown",
   "metadata": {},
   "source": [
    "---\n",
    "### Ratings\n",
    "\n",
    "not iterating over all pages yet..."
   ]
  },
  {
   "cell_type": "code",
   "execution_count": 35,
   "metadata": {
    "collapsed": true
   },
   "outputs": [],
   "source": [
    "soup_user_ratings = getUrlSoup(urls[0] + 'ratings')"
   ]
  },
  {
   "cell_type": "code",
   "execution_count": 36,
   "metadata": {
    "collapsed": false
   },
   "outputs": [
    {
     "name": "stdout",
     "output_type": "stream",
     "text": [
      "344\n"
     ]
    }
   ],
   "source": [
    "num_ratings = (soup_user_ratings.body.find('div', attrs={'class':'header'})\n",
    "                                     .find('div', attrs={'class':'nav'})\n",
    "                                     .find('div', attrs={'class':'desc'})['data-size'])\n",
    "\n",
    "print num_ratings"
   ]
  },
  {
   "cell_type": "code",
   "execution_count": 44,
   "metadata": {
    "collapsed": false
   },
   "outputs": [
    {
     "name": "stdout",
     "output_type": "stream",
     "text": [
      "[\n",
      "    {\n",
      "        \"user_movie_rating\": 9, \n",
      "        \"movie_name\": \"The Big Short\", \n",
      "        \"movie_href\": \"/title/tt1596363/\"\n",
      "    }, \n",
      "    {\n",
      "        \"user_movie_rating\": 2, \n",
      "        \"movie_name\": \"Kill Game\", \n",
      "        \"movie_href\": \"/title/tt3024324/\"\n",
      "    }, \n",
      "    {\n",
      "        \"user_movie_rating\": 3, \n",
      "        \"movie_name\": \"Sisters\", \n",
      "        \"movie_href\": \"/title/tt1850457/\"\n",
      "    }\n",
      "]\n"
     ]
    }
   ],
   "source": [
    "ratings_block = soup_user_ratings.body.find('div', attrs={'class': 'list detail'})\n",
    "\n",
    "ratings_blocks = ratings_block.findAll('div', attrs={'class':'list_item'})\n",
    "\n",
    "ratings = []\n",
    "\n",
    "for b in ratings_blocks:\n",
    "    rating = dict()\n",
    "    rating['movie_href'] = b.find('div',attrs={'class':'info'}).find('a')['href']\n",
    "    rating['movie_name'] = b.find('div',attrs={'class':'info'}).find('a').get_text()\n",
    "    rating['user_movie_rating'] = int(b.find('div',attrs={'class':'info'})\n",
    "                                    .find('div',attrs={'class':'secondary quoted_rating'})\n",
    "                                    .get_text().split('rated this')[1].rstrip('.').lstrip())\n",
    "    ratings.append(rating)\n",
    "    \n",
    "print json.dumps(ratings[:3],indent=4)"
   ]
  },
  {
   "cell_type": "code",
   "execution_count": null,
   "metadata": {
    "collapsed": true
   },
   "outputs": [],
   "source": []
  }
 ],
 "metadata": {
  "kernelspec": {
   "display_name": "Python 2",
   "language": "python",
   "name": "python2"
  },
  "language_info": {
   "codemirror_mode": {
    "name": "ipython",
    "version": 2
   },
   "file_extension": ".py",
   "mimetype": "text/x-python",
   "name": "python",
   "nbconvert_exporter": "python",
   "pygments_lexer": "ipython2",
   "version": "2.7.10"
  }
 },
 "nbformat": 4,
 "nbformat_minor": 0
}
