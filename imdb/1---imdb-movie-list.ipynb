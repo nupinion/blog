{
 "cells": [
  {
   "cell_type": "markdown",
   "metadata": {},
   "source": [
    "This code extracts titles from the pages of results at this url:\n",
    "http://www.imdb.com/list/ls057823854/"
   ]
  },
  {
   "cell_type": "code",
   "execution_count": 10,
   "metadata": {
    "collapsed": true
   },
   "outputs": [],
   "source": [
    "import urllib2\n",
    "import re\n",
    "import json\n",
    "\n",
    "from bs4 import BeautifulSoup"
   ]
  },
  {
   "cell_type": "code",
   "execution_count": 11,
   "metadata": {
    "collapsed": true
   },
   "outputs": [],
   "source": [
    "REQUEST_HEADERS = {\n",
    "    'User-Agent': 'Mozilla/5.0 (X11; Linux x86_64) AppleWebKit/537.11 (KHTML, like Gecko) Chrome/23.0.1271.64 Safari/537.11',\n",
    "    'Accept': 'text/html,application/xhtml+xml,application/xml;q=0.9,*/*;q=0.8',\n",
    "    'Accept-Charset': 'ISO-8859-1,utf-8;q=0.7,*;q=0.3',\n",
    "    'Accept-Encoding': 'none',\n",
    "    'Accept-Language': 'en-US,en;q=0.8',\n",
    "    'Connection': 'keep-alive'\n",
    "}\n",
    "\n",
    "\n",
    "# --------------------------------------------- #\n",
    "def extractHtmlAndSoup(url,hdr):\n",
    "    page_request = urllib2.Request(url, headers=REQUEST_HEADERS)\n",
    "    page_reponse = urllib2.urlopen(page_request)\n",
    "    page_content = page_reponse.read()\n",
    "    # Return the souped content.\n",
    "    return BeautifulSoup(page_content)\n",
    "    # --------------------------------------------- #\n",
    "\n",
    "\n",
    "# --------------------------------------------- #\n",
    "def extractMovieDetails(div):\n",
    "    \n",
    "    # Init an empty object.\n",
    "    obj = {}\n",
    "    \n",
    "    # link to the movie page\n",
    "    obj[\"link\"] = div.find(\"div\",attrs={\"class\",\"info\"}). find(\"a\")[\"href\"]\n",
    "    obj[\"name\"] = div.find(\"div\",attrs={\"class\",\"info\"}).find(\"a\").get_text()\n",
    "    obj[\"year\"] = div.find(\"span\",attrs={\"class\":\"year_type\"}).get_text()\n",
    "    \n",
    "    # Get the movie description.\n",
    "    try:\n",
    "        obj[\"description\"] = div.find(\"div\",attrs={\"class\":\"item_description\"}).get_text()\n",
    "    except:\n",
    "        obj[\"description\"] = ''\n",
    "    \n",
    "    # We need to account for the fact that some movies don't have the director or stars listed.\n",
    "    div_secondary = div.findAll(\"div\", attrs={\"class\":\"secondary\"})\n",
    "    if len(div_secondary) > 0:\n",
    "        if 'Director' in div_secondary[0].get_text():\n",
    "            obj[\"director\"] = div_secondary[0].get_text().replace(\"Director:\",\"\").rstrip().lstrip()\n",
    "        elif 'Stars' in div_secondary[0].get_text():\n",
    "            obj[\"stars\"] = div_secondary[0].get_text().replace(\"Stars:\",\"\").rstrip().lstrip()\n",
    "        if len(div_secondary) > 1:\n",
    "            if 'Director' in div_secondary[1].get_text():\n",
    "                obj[\"director\"] = div_secondary[1].get_text().replace(\"Director:\",\"\").rstrip().lstrip()\n",
    "            elif 'Stars' in div_secondary[1].get_text():\n",
    "                obj[\"stars\"] = div_secondary[1].get_text().replace(\"Stars:\",\"\").rstrip().lstrip()\n",
    "    \n",
    "    obj[\"poster_img\"] = div.find(\"div\",attrs={\"class\":\"image\"}).find(\"img\")[\"src\"]\n",
    "    obj[\"poster_desc\"] = div.find(\"div\",attrs={\"class\":\"image\"}).find(\"img\")[\"alt\"]\n",
    "    \n",
    "    #\n",
    "    return obj\n",
    "    # --------------------------------------------- #"
   ]
  },
  {
   "cell_type": "code",
   "execution_count": 12,
   "metadata": {
    "collapsed": false
   },
   "outputs": [],
   "source": [
    "# url = \"http://www.imdb.com/list/ls057823854/?start=101&view=detail&sort=listorian:asc\"\n",
    "start_num = 1\n",
    "\n",
    "url = \"http://www.imdb.com/list/ls057823854/?start=\" + str(start_num) + \"&view=detail&sort=listorian:asc\"\n",
    "\n",
    "page_soup = extractHtmlAndSoup(url,REQUEST_HEADERS)"
   ]
  },
  {
   "cell_type": "code",
   "execution_count": 13,
   "metadata": {
    "collapsed": true
   },
   "outputs": [],
   "source": [
    "# a quick inspection of the page source reveals that to extract the movie name, \n",
    "# link and date we need the content of divs with class=\"info\"\n",
    "\n",
    "movies_blocks = page_soup.findAll(\"div\", attrs={\"class\":\"list_item\"})"
   ]
  },
  {
   "cell_type": "code",
   "execution_count": 14,
   "metadata": {
    "collapsed": false
   },
   "outputs": [
    {
     "name": "stdout",
     "output_type": "stream",
     "text": [
      "100\n",
      "[\n",
      "    {\n",
      "        \"poster_desc\": \"Image of Pulp Fiction\", \n",
      "        \"description\": \"The lives of two mob hit men, a boxer, a gangster's wife, and a pair of diner bandits intertwine in four tales of violence and redemption. (154 mins.)\", \n",
      "        \"director\": \"Quentin Tarantino\", \n",
      "        \"link\": \"/title/tt0110912/\", \n",
      "        \"stars\": \"John Travolta, Uma Thurman, Samuel L. Jackson, Bruce Willis\", \n",
      "        \"year\": \"(1994)\", \n",
      "        \"poster_img\": \"http://ia.media-imdb.com/images/M/MV5BMTkxMTA5OTAzMl5BMl5BanBnXkFtZTgwNjA5MDc3NjE@._V1._SY209_CR0,0,140,209_.jpg\", \n",
      "        \"name\": \"Pulp Fiction\"\n",
      "    }, \n",
      "    {\n",
      "        \"poster_desc\": \"Image of The Amazing Spider-Man 2\", \n",
      "        \"description\": \"When New York is put under siege by Oscorp, it is up to Spider-Man to save the city he swore to protect as well as his loved ones. (142 mins.)\", \n",
      "        \"director\": \"Marc Webb\", \n",
      "        \"link\": \"/title/tt1872181/\", \n",
      "        \"stars\": \"Andrew Garfield, Emma Stone, Jamie Foxx, Paul Giamatti\", \n",
      "        \"year\": \"(2014)\", \n",
      "        \"poster_img\": \"http://ia.media-imdb.com/images/M/MV5BOTA5NDYxNTg0OV5BMl5BanBnXkFtZTgwODE5NzU1MTE@._V1._SY209_CR0,0,140,209_.jpg\", \n",
      "        \"name\": \"The Amazing Spider-Man 2\"\n",
      "    }\n",
      "]\n"
     ]
    }
   ],
   "source": [
    "MOVIES = []\n",
    "\n",
    "for movie_block in movies_blocks:\n",
    "    MOVIES.append(extractMovieDetails(movie_block))\n",
    "\n",
    "print len(MOVIES)\n",
    "print json.dumps(MOVIES[:2], indent=4)"
   ]
  },
  {
   "cell_type": "code",
   "execution_count": 15,
   "metadata": {
    "collapsed": false
   },
   "outputs": [
    {
     "name": "stdout",
     "output_type": "stream",
     "text": [
      "201 . 301 . 401 . 501 . 601 . 701 . 801 . 901 . 1001 . 1101 . 1201 . 1301 . 1401 . 1501 . 1601 . 1701 . 1801 . 1901 . 2001 . 2101 . 2201 . 2301 . 2401 . 2501 . 2601 . 2701 . 2801 . 2901 . 3001 . 3101 . 3201 . 3301 . 3401 . 3501 . 3601 . 3701 . 3801 . 3901 . 4001 . 4101 . 4201 . 4301 . 4401 . 4501 . 4601 . 4701 . 4801 . 4901 . 5001 . 5101 . 5201 . 5301 . 5401 . 5501 . 5601 . 5701 . 5801 . 5901 . 6001 . 6101 . 6201 . 6301 . 6401 . 6501 . 6601 . 6701 . 6801 . 6901 . 7001 . 7101 . 7201 . 7301 . 7401 . 7501 . 7601 . 7701 . 7801 . 7901 . 8001 . 8101 . 8201 . 8301 . 8401 . 8501 . 8601 . 8701 . 8801 . 8901 . 9001 . 9101 . 9201 . 9301 . 9401 . 9501 . 9601 . 9701 . 9801 . 9901 . \n",
      "\n",
      "DONE!\n"
     ]
    }
   ],
   "source": [
    "num_movies = 9969\n",
    "\n",
    "for i in range(2, (num_movies/100)+1):\n",
    "    \n",
    "    start_from = str(i * 100 + 1)\n",
    "    print start_from, '.',\n",
    "    \n",
    "    # Create the url.\n",
    "    url = \"http://www.imdb.com/list/ls057823854/?start=\" + start_from + \"&view=detail&sort=listorian:asc\"\n",
    "    \n",
    "    # Soup the page contents\n",
    "    page_soup = extractHtmlAndSoup(url,REQUEST_HEADERS)\n",
    "    \n",
    "    # Get all divs that hold movies.\n",
    "    movies_blocks = page_soup.findAll(\"div\",attrs={\"class\":\"list_item\"})\n",
    "    \n",
    "    # Grab the movie details from each of the movies.\n",
    "    for movie_block in movies_blocks:\n",
    "        MOVIES.append(extractMovieDetails(movie_block))\n",
    "\n",
    "\n",
    "print '\\n\\nDONE!'"
   ]
  },
  {
   "cell_type": "code",
   "execution_count": 16,
   "metadata": {
    "collapsed": false
   },
   "outputs": [
    {
     "name": "stdout",
     "output_type": "stream",
     "text": [
      "The Company Man\n",
      "Pulp Fiction | Raiders of the Lost Ark | Rio\n"
     ]
    }
   ],
   "source": [
    "# Just to visually check if things are alright...\n",
    "print MOVIES[-1]['name']\n",
    "print MOVIES[0]['name'], '|', MOVIES[100]['name'], '|', MOVIES[200]['name']"
   ]
  },
  {
   "cell_type": "code",
   "execution_count": 17,
   "metadata": {
    "collapsed": false
   },
   "outputs": [],
   "source": [
    "# Save to file.\n",
    "with open('../../data-blog---list_of_movies_v2.json', 'w') as outfile:\n",
    "    json.dump(MOVIES, outfile)"
   ]
  },
  {
   "cell_type": "code",
   "execution_count": null,
   "metadata": {
    "collapsed": true
   },
   "outputs": [],
   "source": [
    "#print movies[0].find(True,text = re.compile(\"Director\"))\n",
    "#print \"Director\" in str(movies[0])"
   ]
  },
  {
   "cell_type": "code",
   "execution_count": null,
   "metadata": {
    "collapsed": true
   },
   "outputs": [],
   "source": []
  }
 ],
 "metadata": {
  "kernelspec": {
   "display_name": "Python 2",
   "language": "python",
   "name": "python2"
  },
  "language_info": {
   "codemirror_mode": {
    "name": "ipython",
    "version": 2
   },
   "file_extension": ".py",
   "mimetype": "text/x-python",
   "name": "python",
   "nbconvert_exporter": "python",
   "pygments_lexer": "ipython2",
   "version": "2.7.10"
  }
 },
 "nbformat": 4,
 "nbformat_minor": 0
}
