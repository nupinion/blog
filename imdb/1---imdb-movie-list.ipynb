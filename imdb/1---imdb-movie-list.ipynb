{
 "cells": [
  {
   "cell_type": "markdown",
   "metadata": {},
   "source": [
    "This code extracts titles from the pages of results at this url:\n",
    "http://www.imdb.com/list/ls057823854/"
   ]
  },
  {
   "cell_type": "code",
   "execution_count": 1,
   "metadata": {
    "collapsed": true
   },
   "outputs": [],
   "source": [
    "import urllib2\n",
    "import re\n",
    "import json\n",
    "\n",
    "from bs4 import BeautifulSoup"
   ]
  },
  {
   "cell_type": "code",
   "execution_count": 2,
   "metadata": {
    "collapsed": true
   },
   "outputs": [],
   "source": [
    "################################################\n",
    "### helper functions for the document below\n",
    "################################################\n",
    "\n",
    "hdr = {\n",
    "    'User-Agent': 'Mozilla/5.0 (X11; Linux x86_64) AppleWebKit/537.11 (KHTML, like Gecko) Chrome/23.0.1271.64 Safari/537.11',\n",
    "    'Accept': 'text/html,application/xhtml+xml,application/xml;q=0.9,*/*;q=0.8',\n",
    "    'Accept-Charset': 'ISO-8859-1,utf-8;q=0.7,*;q=0.3',\n",
    "    'Accept-Encoding': 'none',\n",
    "    'Accept-Language': 'en-US,en;q=0.8',\n",
    "    'Connection': 'keep-alive'\n",
    "}\n",
    "\n",
    "\n",
    "def extractHtmlAndSoup(url,hdr):\n",
    "    req1 = urllib2.Request(url, headers=hdr)\n",
    "    page = urllib2.urlopen(req1)\n",
    "    content = page.read()\n",
    "    soup = BeautifulSoup(content)\n",
    "    return soup\n",
    "\n",
    "\n",
    "def extractMovieDetails(div):\n",
    "    obj = {}\n",
    "    \n",
    "    # link to the movie page\n",
    "    obj[\"link\"] = div.find(\"div\",attrs={\"class\",\"info\"}). find(\"a\")[\"href\"]\n",
    "    obj[\"name\"] = div.find(\"div\",attrs={\"class\",\"info\"}).find(\"a\").get_text()\n",
    "    obj[\"year\"] = div.find(\"span\",attrs={\"class\":\"year_type\"}).get_text()\n",
    "    obj[\"description\"] = div.find(\"div\",attrs={\"class\":\"item_description\"}).get_text()\n",
    "    \n",
    "    # We need to account for the fact that some movies don't have the director or stars listed.\n",
    "    div_secondary = div.findAll(\"div\", attrs={\"class\":\"secondary\"})\n",
    "    if len(div_secondary) > 0:\n",
    "        if 'Director' in div_secondary[0].get_text():\n",
    "            obj[\"director\"] = div_secondary[0].get_text().replace(\"Director:\",\"\").rstrip().lstrip()\n",
    "        elif 'Stars' in div_secondary[0].get_text():\n",
    "            obj[\"stars\"] = div_secondary[0].get_text().replace(\"Stars:\",\"\").rstrip().lstrip()\n",
    "        if len(div_secondary) > 1:\n",
    "            if 'Director' in div_secondary[1].get_text():\n",
    "                obj[\"director\"] = div_secondary[1].get_text().replace(\"Director:\",\"\").rstrip().lstrip()\n",
    "            elif 'Stars' in div_secondary[1].get_text():\n",
    "                obj[\"stars\"] = div_secondary[1].get_text().replace(\"Stars:\",\"\").rstrip().lstrip()\n",
    "    \n",
    "    obj[\"poster_img\"] = div.find(\"div\",attrs={\"class\":\"image\"}).find(\"img\")[\"src\"]\n",
    "    obj[\"poster_desc\"] = div.find(\"div\",attrs={\"class\":\"image\"}).find(\"img\")[\"alt\"]\n",
    "    #\n",
    "    return obj\n",
    "\n",
    "################################################"
   ]
  },
  {
   "cell_type": "code",
   "execution_count": 3,
   "metadata": {
    "collapsed": false
   },
   "outputs": [
    {
     "name": "stderr",
     "output_type": "stream",
     "text": [
      "/Users/luuk/pyEnv/lib/python2.7/site-packages/bs4/__init__.py:166: UserWarning: No parser was explicitly specified, so I'm using the best available HTML parser for this system (\"html.parser\"). This usually isn't a problem, but if you run this code on another system, or in a different virtual environment, it may use a different parser and behave differently.\n",
      "\n",
      "To get rid of this warning, change this:\n",
      "\n",
      " BeautifulSoup([your markup])\n",
      "\n",
      "to this:\n",
      "\n",
      " BeautifulSoup([your markup], \"html.parser\")\n",
      "\n",
      "  markup_type=markup_type))\n"
     ]
    }
   ],
   "source": [
    "# url = \"http://www.imdb.com/list/ls057823854/?start=101&view=detail&sort=listorian:asc\"\n",
    "start_num = 1\n",
    "\n",
    "url = \"http://www.imdb.com/list/ls057823854/?start=\" + str(start_num) + \"&view=detail&sort=listorian:asc\"\n",
    "\n",
    "page_soup = extractHtmlAndSoup(url,hdr)"
   ]
  },
  {
   "cell_type": "code",
   "execution_count": 4,
   "metadata": {
    "collapsed": true
   },
   "outputs": [],
   "source": [
    "# a quick inspection of the page source reveals that to extract the movie name, \n",
    "# link and date we need the content of divs with class=\"info\"\n",
    "\n",
    "movies_blocks = page_soup.findAll(\"div\", attrs={\"class\":\"list_item\"})"
   ]
  },
  {
   "cell_type": "code",
   "execution_count": 5,
   "metadata": {
    "collapsed": false
   },
   "outputs": [
    {
     "name": "stdout",
     "output_type": "stream",
     "text": [
      "100\n",
      "[\n",
      "    {\n",
      "        \"poster_desc\": \"Image of Pulp Fiction\", \n",
      "        \"description\": \"The lives of two mob hit men, a boxer, a gangster's wife, and a pair of diner bandits intertwine in four tales of violence and redemption. (154 mins.)\", \n",
      "        \"director\": \"Quentin Tarantino\", \n",
      "        \"link\": \"/title/tt0110912/\", \n",
      "        \"stars\": \"John Travolta, Uma Thurman, Samuel L. Jackson, Bruce Willis\", \n",
      "        \"year\": \"(1994)\", \n",
      "        \"poster_img\": \"http://ia.media-imdb.com/images/M/MV5BMTkxMTA5OTAzMl5BMl5BanBnXkFtZTgwNjA5MDc3NjE@._V1._SY209_CR0,0,140,209_.jpg\", \n",
      "        \"name\": \"Pulp Fiction\"\n",
      "    }, \n",
      "    {\n",
      "        \"poster_desc\": \"Image of The Amazing Spider-Man 2\", \n",
      "        \"description\": \"When New York is put under siege by Oscorp, it is up to Spider-Man to save the city he swore to protect as well as his loved ones. (142 mins.)\", \n",
      "        \"director\": \"Marc Webb\", \n",
      "        \"link\": \"/title/tt1872181/\", \n",
      "        \"stars\": \"Andrew Garfield, Emma Stone, Jamie Foxx, Paul Giamatti\", \n",
      "        \"year\": \"(2014)\", \n",
      "        \"poster_img\": \"http://ia.media-imdb.com/images/M/MV5BOTA5NDYxNTg0OV5BMl5BanBnXkFtZTgwODE5NzU1MTE@._V1._SY209_CR0,0,140,209_.jpg\", \n",
      "        \"name\": \"The Amazing Spider-Man 2\"\n",
      "    }\n",
      "]\n"
     ]
    }
   ],
   "source": [
    "MOVIES = []\n",
    "\n",
    "for movie_block in movies_blocks:\n",
    "    MOVIES.append(extractMovieDetails(movie_block))\n",
    "\n",
    "print len(MOVIES)\n",
    "print json.dumps(MOVIES[:2], indent=4)"
   ]
  },
  {
   "cell_type": "code",
   "execution_count": 6,
   "metadata": {
    "collapsed": false
   },
   "outputs": [
    {
     "name": "stdout",
     "output_type": "stream",
     "text": [
      "201 . 301 . 401 . 501 . 601 . 701 . 801 . 901 . 1001 . 1101 . 1201 . 1301 . 1401 . 1501 . 1601 . 1701 . 1801 . 1901 . 2001 . 2101 . 2201 . 2301 . 2401 . 2501 . 2601 . 2701 . 2801 . 2901 . 3001 . 3101 . 3201 . 3301 . 3401 . 3501 . 3601 . 3701 . 3801 . 3901 . 4001 . 4101 . 4201 . 4301 . 4401 . 4501 ."
     ]
    },
    {
     "ename": "AttributeError",
     "evalue": "'NoneType' object has no attribute 'get_text'",
     "output_type": "error",
     "traceback": [
      "\u001b[0;31m---------------------------------------------------------------------------\u001b[0m",
      "\u001b[0;31mAttributeError\u001b[0m                            Traceback (most recent call last)",
      "\u001b[0;32m<ipython-input-6-48dab1725753>\u001b[0m in \u001b[0;36m<module>\u001b[0;34m()\u001b[0m\n\u001b[1;32m     17\u001b[0m     \u001b[0;31m# Grab the movie details from each of the movies.\u001b[0m\u001b[0;34m\u001b[0m\u001b[0;34m\u001b[0m\u001b[0m\n\u001b[1;32m     18\u001b[0m     \u001b[0;32mfor\u001b[0m \u001b[0mmovie_block\u001b[0m \u001b[0;32min\u001b[0m \u001b[0mmovies_blocks\u001b[0m\u001b[0;34m:\u001b[0m\u001b[0;34m\u001b[0m\u001b[0m\n\u001b[0;32m---> 19\u001b[0;31m         \u001b[0mMOVIES\u001b[0m\u001b[0;34m.\u001b[0m\u001b[0mappend\u001b[0m\u001b[0;34m(\u001b[0m\u001b[0mextractMovieDetails\u001b[0m\u001b[0;34m(\u001b[0m\u001b[0mmovie_block\u001b[0m\u001b[0;34m)\u001b[0m\u001b[0;34m)\u001b[0m\u001b[0;34m\u001b[0m\u001b[0m\n\u001b[0m\u001b[1;32m     20\u001b[0m \u001b[0;34m\u001b[0m\u001b[0m\n\u001b[1;32m     21\u001b[0m \u001b[0;34m\u001b[0m\u001b[0m\n",
      "\u001b[0;32m<ipython-input-2-da9a7d36753f>\u001b[0m in \u001b[0;36mextractMovieDetails\u001b[0;34m(div)\u001b[0m\n\u001b[1;32m     28\u001b[0m     \u001b[0mobj\u001b[0m\u001b[0;34m[\u001b[0m\u001b[0;34m\"name\"\u001b[0m\u001b[0;34m]\u001b[0m \u001b[0;34m=\u001b[0m \u001b[0mdiv\u001b[0m\u001b[0;34m.\u001b[0m\u001b[0mfind\u001b[0m\u001b[0;34m(\u001b[0m\u001b[0;34m\"div\"\u001b[0m\u001b[0;34m,\u001b[0m\u001b[0mattrs\u001b[0m\u001b[0;34m=\u001b[0m\u001b[0;34m{\u001b[0m\u001b[0;34m\"class\"\u001b[0m\u001b[0;34m,\u001b[0m\u001b[0;34m\"info\"\u001b[0m\u001b[0;34m}\u001b[0m\u001b[0;34m)\u001b[0m\u001b[0;34m.\u001b[0m\u001b[0mfind\u001b[0m\u001b[0;34m(\u001b[0m\u001b[0;34m\"a\"\u001b[0m\u001b[0;34m)\u001b[0m\u001b[0;34m.\u001b[0m\u001b[0mget_text\u001b[0m\u001b[0;34m(\u001b[0m\u001b[0;34m)\u001b[0m\u001b[0;34m\u001b[0m\u001b[0m\n\u001b[1;32m     29\u001b[0m     \u001b[0mobj\u001b[0m\u001b[0;34m[\u001b[0m\u001b[0;34m\"year\"\u001b[0m\u001b[0;34m]\u001b[0m \u001b[0;34m=\u001b[0m \u001b[0mdiv\u001b[0m\u001b[0;34m.\u001b[0m\u001b[0mfind\u001b[0m\u001b[0;34m(\u001b[0m\u001b[0;34m\"span\"\u001b[0m\u001b[0;34m,\u001b[0m\u001b[0mattrs\u001b[0m\u001b[0;34m=\u001b[0m\u001b[0;34m{\u001b[0m\u001b[0;34m\"class\"\u001b[0m\u001b[0;34m:\u001b[0m\u001b[0;34m\"year_type\"\u001b[0m\u001b[0;34m}\u001b[0m\u001b[0;34m)\u001b[0m\u001b[0;34m.\u001b[0m\u001b[0mget_text\u001b[0m\u001b[0;34m(\u001b[0m\u001b[0;34m)\u001b[0m\u001b[0;34m\u001b[0m\u001b[0m\n\u001b[0;32m---> 30\u001b[0;31m     \u001b[0mobj\u001b[0m\u001b[0;34m[\u001b[0m\u001b[0;34m\"description\"\u001b[0m\u001b[0;34m]\u001b[0m \u001b[0;34m=\u001b[0m \u001b[0mdiv\u001b[0m\u001b[0;34m.\u001b[0m\u001b[0mfind\u001b[0m\u001b[0;34m(\u001b[0m\u001b[0;34m\"div\"\u001b[0m\u001b[0;34m,\u001b[0m\u001b[0mattrs\u001b[0m\u001b[0;34m=\u001b[0m\u001b[0;34m{\u001b[0m\u001b[0;34m\"class\"\u001b[0m\u001b[0;34m:\u001b[0m\u001b[0;34m\"item_description\"\u001b[0m\u001b[0;34m}\u001b[0m\u001b[0;34m)\u001b[0m\u001b[0;34m.\u001b[0m\u001b[0mget_text\u001b[0m\u001b[0;34m(\u001b[0m\u001b[0;34m)\u001b[0m\u001b[0;34m\u001b[0m\u001b[0m\n\u001b[0m\u001b[1;32m     31\u001b[0m \u001b[0;34m\u001b[0m\u001b[0m\n\u001b[1;32m     32\u001b[0m     \u001b[0;31m# We need to account for the fact that some movies don't have the director or stars listed.\u001b[0m\u001b[0;34m\u001b[0m\u001b[0;34m\u001b[0m\u001b[0m\n",
      "\u001b[0;31mAttributeError\u001b[0m: 'NoneType' object has no attribute 'get_text'"
     ]
    }
   ],
   "source": [
    "num_movies = 9969\n",
    "\n",
    "for i in range(2, (num_movies/100)+1):\n",
    "    \n",
    "    start_from = str(i * 100 + 1)\n",
    "    print start_from, '.',\n",
    "    \n",
    "    # Create the url.\n",
    "    url = \"http://www.imdb.com/list/ls057823854/?start=\" + start_from + \"&view=detail&sort=listorian:asc\"\n",
    "    \n",
    "    # Soup the page contents\n",
    "    page_soup = extractHtmlAndSoup(url,hdr)\n",
    "    \n",
    "    # Get all divs that hold movies.\n",
    "    movies_blocks = page_soup.findAll(\"div\",attrs={\"class\":\"list_item\"})\n",
    "    \n",
    "    # Grab the movie details from each of the movies.\n",
    "    for movie_block in movies_blocks:\n",
    "        MOVIES.append(extractMovieDetails(movie_block))\n",
    "\n",
    "\n",
    "print '\\n\\nDONE!'"
   ]
  },
  {
   "cell_type": "code",
   "execution_count": 9,
   "metadata": {
    "collapsed": false
   },
   "outputs": [
    {
     "name": "stdout",
     "output_type": "stream",
     "text": [
      "I, Frankenstein\n",
      "Pulp Fiction | Raiders of the Lost Ark | Rio\n"
     ]
    }
   ],
   "source": [
    "# Just to visually check if things are alright...\n",
    "print MOVIES[-1]['name']\n",
    "print MOVIES[0]['name'], '|', MOVIES[100]['name'], '|', MOVIES[200]['name']"
   ]
  },
  {
   "cell_type": "code",
   "execution_count": 73,
   "metadata": {
    "collapsed": false
   },
   "outputs": [],
   "source": [
    "# Save to file.\n",
    "with open('../../list_of_movies_v2.json', 'w') as outfile:\n",
    "    json.dump(MOVIES, outfile)"
   ]
  },
  {
   "cell_type": "code",
   "execution_count": null,
   "metadata": {
    "collapsed": true
   },
   "outputs": [],
   "source": [
    "#print movies[0].find(True,text = re.compile(\"Director\"))\n",
    "#print \"Director\" in str(movies[0])"
   ]
  },
  {
   "cell_type": "code",
   "execution_count": null,
   "metadata": {
    "collapsed": true
   },
   "outputs": [],
   "source": []
  }
 ],
 "metadata": {
  "kernelspec": {
   "display_name": "Python 2",
   "language": "python",
   "name": "python2"
  },
  "language_info": {
   "codemirror_mode": {
    "name": "ipython",
    "version": 2
   },
   "file_extension": ".py",
   "mimetype": "text/x-python",
   "name": "python",
   "nbconvert_exporter": "python",
   "pygments_lexer": "ipython2",
   "version": "2.7.10"
  }
 },
 "nbformat": 4,
 "nbformat_minor": 0
}
