{
 "cells": [
  {
   "cell_type": "code",
   "execution_count": 15,
   "metadata": {
    "collapsed": true
   },
   "outputs": [],
   "source": [
    "from datetime import datetime\n",
    "import json\n",
    "import urllib\n",
    "import urllib2\n",
    "\n",
    "from bs4 import BeautifulSoup"
   ]
  },
  {
   "cell_type": "code",
   "execution_count": 16,
   "metadata": {
    "collapsed": true
   },
   "outputs": [],
   "source": [
    "movie_id = 'tt1596363'\n",
    "\n",
    "url = 'http://www.imdb.com/title/' + movie_id + '/reviews?ref_=tt_ov_rt'"
   ]
  },
  {
   "cell_type": "code",
   "execution_count": 20,
   "metadata": {
    "collapsed": false
   },
   "outputs": [],
   "source": [
    "# def getUrlSoup(url):\n",
    "#     # Get the page response.\n",
    "#     response = urllib.urlopen(url)\n",
    "#     # Read the page response into raw content.\n",
    "#     content = response.read()\n",
    "#     # Soup it.\n",
    "#     soup = BeautifulSoup(content)\n",
    "#     return soup\n",
    "\n",
    "\n",
    "# soup = getUrlSoup(url)"
   ]
  },
  {
   "cell_type": "code",
   "execution_count": 21,
   "metadata": {
    "collapsed": false
   },
   "outputs": [],
   "source": [
    "hdr = {'User-Agent': 'Mozilla/5.0 (X11; Linux x86_64) AppleWebKit/537.11 (KHTML, like Gecko) Chrome/23.0.1271.64 Safari/537.11',\n",
    "       'Accept': 'text/html,application/xhtml+xml,application/xml;q=0.9,*/*;q=0.8',\n",
    "       'Accept-Charset': 'ISO-8859-1,utf-8;q=0.7,*;q=0.3',\n",
    "       'Accept-Encoding': 'none',\n",
    "       'Accept-Language': 'en-US,en;q=0.8',\n",
    "       'Connection': 'keep-alive'}\n",
    "\n",
    "def getUrlSoup(url,hdr):\n",
    "    req1 = urllib2.Request(url, headers=hdr)\n",
    "    page = urllib2.urlopen(req1)\n",
    "    content = page.read()\n",
    "    soup = BeautifulSoup(content)\n",
    "    return soup\n",
    "    \n",
    "soup = extractHtmlAndSoup(url,hdr)"
   ]
  },
  {
   "cell_type": "code",
   "execution_count": 51,
   "metadata": {
    "collapsed": false
   },
   "outputs": [],
   "source": [
    "main_block = (soup.body.find('div', attrs={'class':'reviews'})\n",
    "                       .find('div', attrs={'id':'tn15main'})\n",
    "                       .find('div', attrs={'id':'tn15content'}))"
   ]
  },
  {
   "cell_type": "code",
   "execution_count": 52,
   "metadata": {
    "collapsed": false
   },
   "outputs": [
    {
     "name": "stdout",
     "output_type": "stream",
     "text": [
      "20\n"
     ]
    }
   ],
   "source": [
    "num_pages = int(main_block.findAll('table')[1]\n",
    "                          .find('td',attrs={'nowrap':'1'}).get_text().split(' of ')[1].rstrip(':'))\n",
    "\n",
    "print num_pages"
   ]
  },
  {
   "cell_type": "code",
   "execution_count": 82,
   "metadata": {
    "collapsed": false
   },
   "outputs": [
    {
     "name": "stdout",
     "output_type": "stream",
     "text": [
      "[\n",
      "    {\n",
      "        \"review_content\": \"\\nComedy is tragedy + time, right? We're now over 7 years out from the\\napex of the American financial crisis, which spiraled outward across\\nthe world, and yet what has really changed? People are still making\\nmillions/billions off the suffering of others, corporate control reigns\\nsupreme, fraud is common and remains largely unknown, wealth continues\\nto be ever more concentrated in the grasp of a few, and the remainder\\nof the populace are treated as proverbial rats and made to feel uncouth\\nshould they question the system and question not wanting to live their\\nlives playing this sadistic game. Taking 2 pennies and selling them to\\nsomeone for a hundred dollars remains a legal activity, just call those\\npennies by a different name and suddenly it's okay to pass them off as\\nfair market.It doesn't sound funny at all, but The Big Short succeeds in turning\\nthis demented and corrupt circus into something improbably hilarious\\nand probing. The power of comedy is its ability to let us see something\\nfrom a different viewpoint, allow us to process it in ways we wouldn't\\nhave been able to otherwise. As we might laugh at children for the\\nhilariously unaware things they say and do, so too will humankind in\\nthe future hopefully laugh at how completely pathetic and ignorant our\\npresent society has been. Martin Scorsese opened the flap up into the\\ncircus entrance with \\\"The Wolf of Wall Street\\\" and, while making good\\npoints, was perhaps a bit too concerned with his own technique and had\\na bit too much indulgence reveling in the frivolity of it all. The Big\\nShort completely blows the top of the circus and dissects it in every\\nway, starting with the widespread fraud and greed in business, and then\\nexamining how it has seeped into our entire existences. Even the good\\nguys here are ultimately out there to make money, lots of it. Isn't\\nthat what society tells us we must to do, in order to be valuable? It's\\nsick.McKay's approach here is \\\"throw everything in, including the kitchen\\nsink\\\" and that creates an energetic, brilliantly matched representation\\nof the subject matter. This does not mean he is lacking control,\\nhowever. The story being told includes so many facets and characters\\nthat it easily could have fallen into disarray, but McKay makes every\\nsingle character memorable and illuminates every piece of jargon that\\ncould be confusing from the outset. It's a huge accomplishment and a\\nfar more important one than might seem apparent. The things that were\\nallowed to happen in the realms of business, finance, and banking are\\nabsolutely INSANE and unbelievable. It has to be largely comedic\\nbecause there's no other way of delivering this vast amount of\\ninformation and complete failure of our entire society and make it all\\nsnap into place so continuously, without being ripped apart by the\\noverwhelming darkness of it all. This isn't simply circumstantial and\\ntheoretical and mysterious to a degree, as in Oliver Stone's \\\"JFK\\\", but\\nthe cold hard truth.It's not enough to even ask for the truth anymore and ask for answers,\\nwe need to question the entire system, a whole web of poisonous bonds\\nthat have tightly wound themselves so entirely around us. The work of\\nthe film itself is allowing us to project our thoughts, our fears, our\\nanger, and our confusions into this convoluted conundrum. All while\\nbeing told the truth, so that we at least have a place to even start\\ndown the correct path of understanding. It's acting as our own\\ninvestigative journey in a time when actual news and journalism has\\nbecome a tiny spec of its former self. We now have more information\\nthan ever available to us, yet it's often so shrouded and twisted as to\\nbecome unrecognizable. There are still those who fear education for\\nwhat it would do to their own position in life, how it would challenge\\ntheir own reality. We are still held under the thumb of \\\"greed is\\ngood\\\", \\\"thinking you're inherently better is good\\\", \\\"vanity is good\\\".The shiny mainstream hallmarks of a typical Hollywoood commercial\\nproduct - the agreeable lighting and manicured actors and tidy\\nlocations - are so perfectly representative in this film of the\\nemptiness within the characters and indeed in our entire society. After\\nall the progress we think we've made towards world peace and human\\nrights and medical advances and the stability of the human race, have\\nwe lost sight of what a fulfilling life and a world of justice should\\nreally be? Aren't we still captive to the same pointless rituals and\\nsuperficialities, doesn't a veritable monarch and royal court still\\ncontrol most everything? We are now living our lives working for\\nsomething that can be wiped out with the stroke of a keyboard. We are\\ntold something of monetary worth that is non-existent, for all intents\\nand purposes, is something we should strive for. Making a bet on the\\noutcome of another bet is a whole industry. The non-existent and\\nridiculous and pointless directly hurts the lives of many.The Big Short is one of the most important films of this era and one of\\nthe best. I wanted to laugh and cry at the same time. It is an\\nillumination, a magical pairing of a director's sensibility to exactly\\nthe correct form that most fully allows it to blossom and hold water.\\nIt is water which the film warns us will be the next basic human\\nnecessity to be denied by those few who hold power.\\n\", \n",
      "        \"review_rating\": \"10\", \n",
      "        \"user_href\": \"/user/ur2363449/\", \n",
      "        \"review_useful\": \"158 out of 202\", \n",
      "        \"user_name\": \"Zuranthium (zuranthium@yahoo.com)\"\n",
      "    }, \n",
      "    {\n",
      "        \"review_content\": \"\\nI will keep the review simple. Although some of the financial jargon\\nwent over my head, i would say Adam McKay is a genius, to make a movie\\nabout the financial crisis this much entertaining, funny and touching\\nthat's a feat only few filmmakers can pull off, and a lot of that has\\nto do with the tremendous cast of this movie. The Big Short has a large\\nensemble cast but focuses on four major players who benefited in\\nvarious ways from betting against the American economy. Steve Carell\\ngives one of the best performance of his career, Christian bale\\nportrays the awkward lonely genius with ease. Ryan gosling is slick\\nover the top and funny in this movie he also makes the whole thing much\\nmore interesting. Brad Pitt is kind of a good guy and the moral center.\\nThis is a must see, and needs multiple viewings to truly appreciate.\\n\", \n",
      "        \"review_rating\": \"10\", \n",
      "        \"user_href\": \"/user/ur56024667/\", \n",
      "        \"review_useful\": \"109 out of 144\", \n",
      "        \"user_name\": \"Ray Ranger\"\n",
      "    }\n",
      "]\n"
     ]
    }
   ],
   "source": [
    "import re\n",
    "\n",
    "reviews_block = re.split(r\"<hr[^>]*>\", str(main_block))\n",
    "\n",
    "reviews = []\n",
    "\n",
    "for r in reviews_block[1:-3]:\n",
    "    \n",
    "    soup_review = BeautifulSoup(r)\n",
    "    soup_review_header = soup_review.find('div')\n",
    "    review = dict()\n",
    "    \n",
    "    review['user_name'] = soup_review_header.findAll('a')[1].get_text()\n",
    "    review['user_href'] = soup_review_header.findAll('a')[1]['href']\n",
    "    \n",
    "    # Try to get the rating.\n",
    "    soup_imgs = soup_review_header.findAll('img')\n",
    "    review['review_rating'] = None\n",
    "    if len(soup_imgs) > 1:\n",
    "        review['review_rating'] = soup_imgs[1]['alt'].split('/')[0]\n",
    "    \n",
    "    review['review_useful'] = soup_review_header.find('small').get_text().split('people')[0].rstrip().lstrip()\n",
    "    review['review_content'] = soup_review.find('p').get_text()\n",
    "    \n",
    "    reviews.append(review)\n",
    "    \n",
    "\n",
    "print json.dumps(reviews[:2],indent=4)"
   ]
  },
  {
   "cell_type": "code",
   "execution_count": null,
   "metadata": {
    "collapsed": true
   },
   "outputs": [],
   "source": []
  },
  {
   "cell_type": "code",
   "execution_count": null,
   "metadata": {
    "collapsed": true
   },
   "outputs": [],
   "source": [
    "reviews_block = (soup.body.find('div', attrs={'class': 'widget article reviews'})\n",
    "                          .find('div', attrs={'class':'reviews'}))"
   ]
  }
 ],
 "metadata": {
  "kernelspec": {
   "display_name": "Python 2",
   "language": "python",
   "name": "python2"
  },
  "language_info": {
   "codemirror_mode": {
    "name": "ipython",
    "version": 2
   },
   "file_extension": ".py",
   "mimetype": "text/x-python",
   "name": "python",
   "nbconvert_exporter": "python",
   "pygments_lexer": "ipython2",
   "version": "2.7.10"
  }
 },
 "nbformat": 4,
 "nbformat_minor": 0
}
